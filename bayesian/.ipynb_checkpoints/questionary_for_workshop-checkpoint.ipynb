{
 "cells": [
  {
   "cell_type": "markdown",
   "id": "0e9e5493",
   "metadata": {},
   "source": [
    "# Questionary for Workshop"
   ]
  },
  {
   "cell_type": "code",
   "execution_count": 7,
   "id": "ed67d729",
   "metadata": {},
   "outputs": [],
   "source": [
    "import pandas as pd \n",
    "import numpy as np\n",
    "import pandas_profiling as pdp\n",
    "import seaborn as sns\n",
    "from matplotlib import pyplot as plt\n",
    "%matplotlib inline"
   ]
  },
  {
   "cell_type": "code",
   "execution_count": 3,
   "id": "fa64785f",
   "metadata": {},
   "outputs": [
    {
     "name": "stdout",
     "output_type": "stream",
     "text": [
      "データテーブルの確認\n"
     ]
    },
    {
     "data": {
      "text/html": [
       "<div>\n",
       "<style scoped>\n",
       "    .dataframe tbody tr th:only-of-type {\n",
       "        vertical-align: middle;\n",
       "    }\n",
       "\n",
       "    .dataframe tbody tr th {\n",
       "        vertical-align: top;\n",
       "    }\n",
       "\n",
       "    .dataframe thead th {\n",
       "        text-align: right;\n",
       "    }\n",
       "</style>\n",
       "<table border=\"1\" class=\"dataframe\">\n",
       "  <thead>\n",
       "    <tr style=\"text-align: right;\">\n",
       "      <th></th>\n",
       "      <th>id</th>\n",
       "      <th>term</th>\n",
       "      <th>ml_knowledge</th>\n",
       "      <th>coding_knowledge</th>\n",
       "      <th>stats_knowledge</th>\n",
       "      <th>understand_level_crispdm</th>\n",
       "      <th>motivated_level_ml</th>\n",
       "      <th>motivated_level_coding</th>\n",
       "      <th>motivated_level_stats</th>\n",
       "      <th>learning_process_coding</th>\n",
       "      <th>understand_level_hole_workshop</th>\n",
       "      <th>appropriate_time_hole_workshop</th>\n",
       "      <th>appropriate_volume_hole_workshop</th>\n",
       "      <th>difficult_points_hole_workshop</th>\n",
       "      <th>benefit_points_hole_workshop</th>\n",
       "      <th>curious_points_hole_workshop</th>\n",
       "      <th>comments</th>\n",
       "    </tr>\n",
       "  </thead>\n",
       "  <tbody>\n",
       "    <tr>\n",
       "      <th>0</th>\n",
       "      <td>1</td>\n",
       "      <td>1</td>\n",
       "      <td>4</td>\n",
       "      <td>4</td>\n",
       "      <td>4</td>\n",
       "      <td>5</td>\n",
       "      <td>5</td>\n",
       "      <td>3</td>\n",
       "      <td>5</td>\n",
       "      <td>0</td>\n",
       "      <td>7</td>\n",
       "      <td>6</td>\n",
       "      <td>9</td>\n",
       "      <td>説明はとても丁寧にしていただいていましたが，最後のモデル解釈のところのスピードが速くて，また...</td>\n",
       "      <td>・機械学習モデルが作る人によって，異なるモデルが作成すること。→できればその理由なども次回お...</td>\n",
       "      <td>解析テーマの設定方法（ビジネス理解）;Pythonプログラムのコードの意味;作成したモデルを...</td>\n",
       "      <td>モデル解釈のところの説明が簡潔であったため，別の機会にその点が補足された講習会とかありました...</td>\n",
       "    </tr>\n",
       "    <tr>\n",
       "      <th>1</th>\n",
       "      <td>2</td>\n",
       "      <td>1</td>\n",
       "      <td>2</td>\n",
       "      <td>2</td>\n",
       "      <td>1</td>\n",
       "      <td>4</td>\n",
       "      <td>5</td>\n",
       "      <td>4</td>\n",
       "      <td>5</td>\n",
       "      <td>8</td>\n",
       "      <td>8</td>\n",
       "      <td>5</td>\n",
       "      <td>5</td>\n",
       "      <td>わかりやすかったです。</td>\n",
       "      <td>機械学習の全体像をつかむことができたのがよかったです。\\n</td>\n",
       "      <td>解析テーマの設定方法（ビジネス理解）;Pythonプログラムのコードの意味;</td>\n",
       "      <td>丁寧なレクチャーをありがとうございました。\\n大学時代に学生実験でC+を少し使ったことがある...</td>\n",
       "    </tr>\n",
       "    <tr>\n",
       "      <th>2</th>\n",
       "      <td>3</td>\n",
       "      <td>1</td>\n",
       "      <td>1</td>\n",
       "      <td>1</td>\n",
       "      <td>1</td>\n",
       "      <td>4</td>\n",
       "      <td>4</td>\n",
       "      <td>5</td>\n",
       "      <td>4</td>\n",
       "      <td>0</td>\n",
       "      <td>9</td>\n",
       "      <td>6</td>\n",
       "      <td>5</td>\n",
       "      <td>プログラミングの知識があれば、より理解が深まると思った。\\n実際に手で入力してみても良いと思った。</td>\n",
       "      <td>MI解析OJTの復習になった。</td>\n",
       "      <td>Pythonプログラムのコードの意味;</td>\n",
       "      <td>Pythonを使って、他にどんなことができるのか興味が湧いた。</td>\n",
       "    </tr>\n",
       "    <tr>\n",
       "      <th>3</th>\n",
       "      <td>4</td>\n",
       "      <td>1</td>\n",
       "      <td>1</td>\n",
       "      <td>1</td>\n",
       "      <td>1</td>\n",
       "      <td>4</td>\n",
       "      <td>4</td>\n",
       "      <td>4</td>\n",
       "      <td>4</td>\n",
       "      <td>7</td>\n",
       "      <td>7</td>\n",
       "      <td>7</td>\n",
       "      <td>5</td>\n",
       "      <td>おおよその流れを理解させるワークショップかと思います。プログラミングの理解、指導は次回以降か...</td>\n",
       "      <td>立場的にプログラミングの理解、作成、データサイエンティストとなることは不要（無理）と感じます...</td>\n",
       "      <td>作成したモデルを評価する部分（モデル評価）;</td>\n",
       "      <td>時間が合えば、次回以降も受講考えたいです。</td>\n",
       "    </tr>\n",
       "    <tr>\n",
       "      <th>4</th>\n",
       "      <td>5</td>\n",
       "      <td>1</td>\n",
       "      <td>2</td>\n",
       "      <td>1</td>\n",
       "      <td>1</td>\n",
       "      <td>5</td>\n",
       "      <td>5</td>\n",
       "      <td>5</td>\n",
       "      <td>5</td>\n",
       "      <td>2</td>\n",
       "      <td>8</td>\n",
       "      <td>5</td>\n",
       "      <td>3</td>\n",
       "      <td>プログラムの意味、ライブラリの中身が理解できておらずとっつき難いと感じた。</td>\n",
       "      <td>Pythonや機械学習に触れるとっかかりとなると思った\\nさらに自学するための教材を紹介して...</td>\n",
       "      <td>Pythonプログラムのコードの意味;解析テーマの設定方法（ビジネス理解）;データの可視化の...</td>\n",
       "      <td>機械学習にとっつきづらいと感じたので、とっかかりになったと思う。\\n今回、学習者が増えてきた...</td>\n",
       "    </tr>\n",
       "  </tbody>\n",
       "</table>\n",
       "</div>"
      ],
      "text/plain": [
       "   id  term  ml_knowledge  coding_knowledge  stats_knowledge  \\\n",
       "0   1     1             4                 4                4   \n",
       "1   2     1             2                 2                1   \n",
       "2   3     1             1                 1                1   \n",
       "3   4     1             1                 1                1   \n",
       "4   5     1             2                 1                1   \n",
       "\n",
       "   understand_level_crispdm  motivated_level_ml  motivated_level_coding  \\\n",
       "0                         5                   5                       3   \n",
       "1                         4                   5                       4   \n",
       "2                         4                   4                       5   \n",
       "3                         4                   4                       4   \n",
       "4                         5                   5                       5   \n",
       "\n",
       "   motivated_level_stats  learning_process_coding  \\\n",
       "0                      5                        0   \n",
       "1                      5                        8   \n",
       "2                      4                        0   \n",
       "3                      4                        7   \n",
       "4                      5                        2   \n",
       "\n",
       "   understand_level_hole_workshop  appropriate_time_hole_workshop  \\\n",
       "0                               7                               6   \n",
       "1                               8                               5   \n",
       "2                               9                               6   \n",
       "3                               7                               7   \n",
       "4                               8                               5   \n",
       "\n",
       "   appropriate_volume_hole_workshop  \\\n",
       "0                                 9   \n",
       "1                                 5   \n",
       "2                                 5   \n",
       "3                                 5   \n",
       "4                                 3   \n",
       "\n",
       "                      difficult_points_hole_workshop  \\\n",
       "0  説明はとても丁寧にしていただいていましたが，最後のモデル解釈のところのスピードが速くて，また...   \n",
       "1                                        わかりやすかったです。   \n",
       "2  プログラミングの知識があれば、より理解が深まると思った。\\n実際に手で入力してみても良いと思った。   \n",
       "3  おおよその流れを理解させるワークショップかと思います。プログラミングの理解、指導は次回以降か...   \n",
       "4              プログラムの意味、ライブラリの中身が理解できておらずとっつき難いと感じた。   \n",
       "\n",
       "                        benefit_points_hole_workshop  \\\n",
       "0  ・機械学習モデルが作る人によって，異なるモデルが作成すること。→できればその理由なども次回お...   \n",
       "1                      機械学習の全体像をつかむことができたのがよかったです。\\n   \n",
       "2                                    MI解析OJTの復習になった。   \n",
       "3  立場的にプログラミングの理解、作成、データサイエンティストとなることは不要（無理）と感じます...   \n",
       "4  Pythonや機械学習に触れるとっかかりとなると思った\\nさらに自学するための教材を紹介して...   \n",
       "\n",
       "                        curious_points_hole_workshop  \\\n",
       "0  解析テーマの設定方法（ビジネス理解）;Pythonプログラムのコードの意味;作成したモデルを...   \n",
       "1             解析テーマの設定方法（ビジネス理解）;Pythonプログラムのコードの意味;   \n",
       "2                                Pythonプログラムのコードの意味;   \n",
       "3                             作成したモデルを評価する部分（モデル評価）;   \n",
       "4  Pythonプログラムのコードの意味;解析テーマの設定方法（ビジネス理解）;データの可視化の...   \n",
       "\n",
       "                                            comments  \n",
       "0  モデル解釈のところの説明が簡潔であったため，別の機会にその点が補足された講習会とかありました...  \n",
       "1  丁寧なレクチャーをありがとうございました。\\n大学時代に学生実験でC+を少し使ったことがある...  \n",
       "2                    Pythonを使って、他にどんなことができるのか興味が湧いた。  \n",
       "3                              時間が合えば、次回以降も受講考えたいです。  \n",
       "4  機械学習にとっつきづらいと感じたので、とっかかりになったと思う。\\n今回、学習者が増えてきた...  "
      ]
     },
     "execution_count": 3,
     "metadata": {},
     "output_type": "execute_result"
    }
   ],
   "source": [
    "# Datasetの上位3行を確認\n",
    "df = pd.read_csv('questionary_for_workshop.csv')\n",
    "print('データテーブルの確認')\n",
    "df.head()"
   ]
  },
  {
   "cell_type": "code",
   "execution_count": 4,
   "id": "27850118",
   "metadata": {},
   "outputs": [
    {
     "data": {
      "text/html": [
       "<div>\n",
       "<style scoped>\n",
       "    .dataframe tbody tr th:only-of-type {\n",
       "        vertical-align: middle;\n",
       "    }\n",
       "\n",
       "    .dataframe tbody tr th {\n",
       "        vertical-align: top;\n",
       "    }\n",
       "\n",
       "    .dataframe thead th {\n",
       "        text-align: right;\n",
       "    }\n",
       "</style>\n",
       "<table border=\"1\" class=\"dataframe\">\n",
       "  <thead>\n",
       "    <tr style=\"text-align: right;\">\n",
       "      <th></th>\n",
       "      <th>term</th>\n",
       "      <th>ml_knowledge</th>\n",
       "      <th>coding_knowledge</th>\n",
       "      <th>stats_knowledge</th>\n",
       "      <th>understand_level_crispdm</th>\n",
       "      <th>motivated_level_ml</th>\n",
       "      <th>motivated_level_coding</th>\n",
       "      <th>motivated_level_stats</th>\n",
       "      <th>learning_process_coding</th>\n",
       "      <th>understand_level_hole_workshop</th>\n",
       "      <th>appropriate_time_hole_workshop</th>\n",
       "      <th>appropriate_volume_hole_workshop</th>\n",
       "    </tr>\n",
       "  </thead>\n",
       "  <tbody>\n",
       "    <tr>\n",
       "      <th>0</th>\n",
       "      <td>1</td>\n",
       "      <td>4</td>\n",
       "      <td>4</td>\n",
       "      <td>4</td>\n",
       "      <td>5</td>\n",
       "      <td>5</td>\n",
       "      <td>3</td>\n",
       "      <td>5</td>\n",
       "      <td>0</td>\n",
       "      <td>7</td>\n",
       "      <td>6</td>\n",
       "      <td>9</td>\n",
       "    </tr>\n",
       "    <tr>\n",
       "      <th>1</th>\n",
       "      <td>1</td>\n",
       "      <td>2</td>\n",
       "      <td>2</td>\n",
       "      <td>1</td>\n",
       "      <td>4</td>\n",
       "      <td>5</td>\n",
       "      <td>4</td>\n",
       "      <td>5</td>\n",
       "      <td>8</td>\n",
       "      <td>8</td>\n",
       "      <td>5</td>\n",
       "      <td>5</td>\n",
       "    </tr>\n",
       "    <tr>\n",
       "      <th>2</th>\n",
       "      <td>1</td>\n",
       "      <td>1</td>\n",
       "      <td>1</td>\n",
       "      <td>1</td>\n",
       "      <td>4</td>\n",
       "      <td>4</td>\n",
       "      <td>5</td>\n",
       "      <td>4</td>\n",
       "      <td>0</td>\n",
       "      <td>9</td>\n",
       "      <td>6</td>\n",
       "      <td>5</td>\n",
       "    </tr>\n",
       "    <tr>\n",
       "      <th>3</th>\n",
       "      <td>1</td>\n",
       "      <td>1</td>\n",
       "      <td>1</td>\n",
       "      <td>1</td>\n",
       "      <td>4</td>\n",
       "      <td>4</td>\n",
       "      <td>4</td>\n",
       "      <td>4</td>\n",
       "      <td>7</td>\n",
       "      <td>7</td>\n",
       "      <td>7</td>\n",
       "      <td>5</td>\n",
       "    </tr>\n",
       "    <tr>\n",
       "      <th>4</th>\n",
       "      <td>1</td>\n",
       "      <td>2</td>\n",
       "      <td>1</td>\n",
       "      <td>1</td>\n",
       "      <td>5</td>\n",
       "      <td>5</td>\n",
       "      <td>5</td>\n",
       "      <td>5</td>\n",
       "      <td>2</td>\n",
       "      <td>8</td>\n",
       "      <td>5</td>\n",
       "      <td>3</td>\n",
       "    </tr>\n",
       "  </tbody>\n",
       "</table>\n",
       "</div>"
      ],
      "text/plain": [
       "   term  ml_knowledge  coding_knowledge  stats_knowledge  \\\n",
       "0     1             4                 4                4   \n",
       "1     1             2                 2                1   \n",
       "2     1             1                 1                1   \n",
       "3     1             1                 1                1   \n",
       "4     1             2                 1                1   \n",
       "\n",
       "   understand_level_crispdm  motivated_level_ml  motivated_level_coding  \\\n",
       "0                         5                   5                       3   \n",
       "1                         4                   5                       4   \n",
       "2                         4                   4                       5   \n",
       "3                         4                   4                       4   \n",
       "4                         5                   5                       5   \n",
       "\n",
       "   motivated_level_stats  learning_process_coding  \\\n",
       "0                      5                        0   \n",
       "1                      5                        8   \n",
       "2                      4                        0   \n",
       "3                      4                        7   \n",
       "4                      5                        2   \n",
       "\n",
       "   understand_level_hole_workshop  appropriate_time_hole_workshop  \\\n",
       "0                               7                               6   \n",
       "1                               8                               5   \n",
       "2                               9                               6   \n",
       "3                               7                               7   \n",
       "4                               8                               5   \n",
       "\n",
       "   appropriate_volume_hole_workshop  \n",
       "0                                 9  \n",
       "1                                 5  \n",
       "2                                 5  \n",
       "3                                 5  \n",
       "4                                 3  "
      ]
     },
     "execution_count": 4,
     "metadata": {},
     "output_type": "execute_result"
    }
   ],
   "source": [
    "df = df.drop(['id','difficult_points_hole_workshop','benefit_points_hole_workshop','curious_points_hole_workshop','comments'], axis=1)\n",
    "df.head()"
   ]
  },
  {
   "cell_type": "code",
   "execution_count": 5,
   "id": "54ddbf27",
   "metadata": {},
   "outputs": [
    {
     "data": {
      "text/html": [
       "<div>\n",
       "<style scoped>\n",
       "    .dataframe tbody tr th:only-of-type {\n",
       "        vertical-align: middle;\n",
       "    }\n",
       "\n",
       "    .dataframe tbody tr th {\n",
       "        vertical-align: top;\n",
       "    }\n",
       "\n",
       "    .dataframe thead th {\n",
       "        text-align: right;\n",
       "    }\n",
       "</style>\n",
       "<table border=\"1\" class=\"dataframe\">\n",
       "  <thead>\n",
       "    <tr style=\"text-align: right;\">\n",
       "      <th></th>\n",
       "      <th>term</th>\n",
       "      <th>ml_knowledge</th>\n",
       "      <th>coding_knowledge</th>\n",
       "      <th>stats_knowledge</th>\n",
       "      <th>understand_level_crispdm</th>\n",
       "      <th>motivated_level_ml</th>\n",
       "      <th>motivated_level_coding</th>\n",
       "      <th>motivated_level_stats</th>\n",
       "      <th>learning_process_coding</th>\n",
       "      <th>understand_level_hole_workshop</th>\n",
       "      <th>appropriate_time_hole_workshop</th>\n",
       "      <th>appropriate_volume_hole_workshop</th>\n",
       "    </tr>\n",
       "  </thead>\n",
       "  <tbody>\n",
       "    <tr>\n",
       "      <th>count</th>\n",
       "      <td>29.000000</td>\n",
       "      <td>29.000000</td>\n",
       "      <td>29.000000</td>\n",
       "      <td>29.000000</td>\n",
       "      <td>29.000000</td>\n",
       "      <td>29.000000</td>\n",
       "      <td>29.000000</td>\n",
       "      <td>29.000000</td>\n",
       "      <td>29.000000</td>\n",
       "      <td>29.000000</td>\n",
       "      <td>29.000000</td>\n",
       "      <td>29.000000</td>\n",
       "    </tr>\n",
       "    <tr>\n",
       "      <th>mean</th>\n",
       "      <td>2.310345</td>\n",
       "      <td>2.034483</td>\n",
       "      <td>1.827586</td>\n",
       "      <td>1.448276</td>\n",
       "      <td>4.206897</td>\n",
       "      <td>4.448276</td>\n",
       "      <td>4.000000</td>\n",
       "      <td>4.344828</td>\n",
       "      <td>5.241379</td>\n",
       "      <td>8.034483</td>\n",
       "      <td>4.931034</td>\n",
       "      <td>5.137931</td>\n",
       "    </tr>\n",
       "    <tr>\n",
       "      <th>std</th>\n",
       "      <td>0.929802</td>\n",
       "      <td>1.148998</td>\n",
       "      <td>1.071346</td>\n",
       "      <td>0.783135</td>\n",
       "      <td>0.861034</td>\n",
       "      <td>0.631676</td>\n",
       "      <td>0.963624</td>\n",
       "      <td>0.720905</td>\n",
       "      <td>3.757423</td>\n",
       "      <td>1.322410</td>\n",
       "      <td>0.997534</td>\n",
       "      <td>1.274030</td>\n",
       "    </tr>\n",
       "    <tr>\n",
       "      <th>min</th>\n",
       "      <td>1.000000</td>\n",
       "      <td>1.000000</td>\n",
       "      <td>1.000000</td>\n",
       "      <td>1.000000</td>\n",
       "      <td>2.000000</td>\n",
       "      <td>3.000000</td>\n",
       "      <td>2.000000</td>\n",
       "      <td>3.000000</td>\n",
       "      <td>0.000000</td>\n",
       "      <td>5.000000</td>\n",
       "      <td>2.000000</td>\n",
       "      <td>3.000000</td>\n",
       "    </tr>\n",
       "    <tr>\n",
       "      <th>25%</th>\n",
       "      <td>2.000000</td>\n",
       "      <td>1.000000</td>\n",
       "      <td>1.000000</td>\n",
       "      <td>1.000000</td>\n",
       "      <td>4.000000</td>\n",
       "      <td>4.000000</td>\n",
       "      <td>4.000000</td>\n",
       "      <td>4.000000</td>\n",
       "      <td>2.000000</td>\n",
       "      <td>7.000000</td>\n",
       "      <td>5.000000</td>\n",
       "      <td>5.000000</td>\n",
       "    </tr>\n",
       "    <tr>\n",
       "      <th>50%</th>\n",
       "      <td>2.000000</td>\n",
       "      <td>2.000000</td>\n",
       "      <td>1.000000</td>\n",
       "      <td>1.000000</td>\n",
       "      <td>4.000000</td>\n",
       "      <td>5.000000</td>\n",
       "      <td>4.000000</td>\n",
       "      <td>4.000000</td>\n",
       "      <td>7.000000</td>\n",
       "      <td>8.000000</td>\n",
       "      <td>5.000000</td>\n",
       "      <td>5.000000</td>\n",
       "    </tr>\n",
       "    <tr>\n",
       "      <th>75%</th>\n",
       "      <td>3.000000</td>\n",
       "      <td>2.000000</td>\n",
       "      <td>2.000000</td>\n",
       "      <td>2.000000</td>\n",
       "      <td>5.000000</td>\n",
       "      <td>5.000000</td>\n",
       "      <td>5.000000</td>\n",
       "      <td>5.000000</td>\n",
       "      <td>8.000000</td>\n",
       "      <td>9.000000</td>\n",
       "      <td>5.000000</td>\n",
       "      <td>5.000000</td>\n",
       "    </tr>\n",
       "    <tr>\n",
       "      <th>max</th>\n",
       "      <td>4.000000</td>\n",
       "      <td>4.000000</td>\n",
       "      <td>4.000000</td>\n",
       "      <td>4.000000</td>\n",
       "      <td>5.000000</td>\n",
       "      <td>5.000000</td>\n",
       "      <td>5.000000</td>\n",
       "      <td>5.000000</td>\n",
       "      <td>10.000000</td>\n",
       "      <td>10.000000</td>\n",
       "      <td>7.000000</td>\n",
       "      <td>9.000000</td>\n",
       "    </tr>\n",
       "  </tbody>\n",
       "</table>\n",
       "</div>"
      ],
      "text/plain": [
       "            term  ml_knowledge  coding_knowledge  stats_knowledge  \\\n",
       "count  29.000000     29.000000         29.000000        29.000000   \n",
       "mean    2.310345      2.034483          1.827586         1.448276   \n",
       "std     0.929802      1.148998          1.071346         0.783135   \n",
       "min     1.000000      1.000000          1.000000         1.000000   \n",
       "25%     2.000000      1.000000          1.000000         1.000000   \n",
       "50%     2.000000      2.000000          1.000000         1.000000   \n",
       "75%     3.000000      2.000000          2.000000         2.000000   \n",
       "max     4.000000      4.000000          4.000000         4.000000   \n",
       "\n",
       "       understand_level_crispdm  motivated_level_ml  motivated_level_coding  \\\n",
       "count                 29.000000           29.000000               29.000000   \n",
       "mean                   4.206897            4.448276                4.000000   \n",
       "std                    0.861034            0.631676                0.963624   \n",
       "min                    2.000000            3.000000                2.000000   \n",
       "25%                    4.000000            4.000000                4.000000   \n",
       "50%                    4.000000            5.000000                4.000000   \n",
       "75%                    5.000000            5.000000                5.000000   \n",
       "max                    5.000000            5.000000                5.000000   \n",
       "\n",
       "       motivated_level_stats  learning_process_coding  \\\n",
       "count              29.000000                29.000000   \n",
       "mean                4.344828                 5.241379   \n",
       "std                 0.720905                 3.757423   \n",
       "min                 3.000000                 0.000000   \n",
       "25%                 4.000000                 2.000000   \n",
       "50%                 4.000000                 7.000000   \n",
       "75%                 5.000000                 8.000000   \n",
       "max                 5.000000                10.000000   \n",
       "\n",
       "       understand_level_hole_workshop  appropriate_time_hole_workshop  \\\n",
       "count                       29.000000                       29.000000   \n",
       "mean                         8.034483                        4.931034   \n",
       "std                          1.322410                        0.997534   \n",
       "min                          5.000000                        2.000000   \n",
       "25%                          7.000000                        5.000000   \n",
       "50%                          8.000000                        5.000000   \n",
       "75%                          9.000000                        5.000000   \n",
       "max                         10.000000                        7.000000   \n",
       "\n",
       "       appropriate_volume_hole_workshop  \n",
       "count                         29.000000  \n",
       "mean                           5.137931  \n",
       "std                            1.274030  \n",
       "min                            3.000000  \n",
       "25%                            5.000000  \n",
       "50%                            5.000000  \n",
       "75%                            5.000000  \n",
       "max                            9.000000  "
      ]
     },
     "execution_count": 5,
     "metadata": {},
     "output_type": "execute_result"
    }
   ],
   "source": [
    "df.describe()"
   ]
  },
  {
   "cell_type": "markdown",
   "id": "04727869",
   "metadata": {},
   "source": [
    "# ワークショップ参加者の事前スキル\n",
    "\n",
    "### x軸…スキル分野\n",
    "        ・機械学習\n",
    "        ・プログラミング\n",
    "        ・統計学\n",
    "### y軸…スキルレベル\n",
    "        ４：仕事で活用してる\n",
    "        ３：専門書を読んで実装経験がある\n",
    "        ２：WSやツールで体験した事がある\n",
    "        １：大学で学んだ事がある"
   ]
  },
  {
   "cell_type": "code",
   "execution_count": 26,
   "id": "c78b80ac",
   "metadata": {
    "scrolled": false
   },
   "outputs": [
    {
     "data": {
      "image/png": "[encoded data removed]",
      "text/plain": [
       "<Figure size 432x288 with 1 Axes>"
      ]
     },
     "metadata": {
      "needs_background": "light"
     },
     "output_type": "display_data"
    },
    {
     "name": "stdout",
     "output_type": "stream",
     "text": [
      "４：仕事で活用してる\n",
      "３：専門書を読んで実装経験がある\n",
      "２：WSやツールで体験した事がある\n",
      "１：大学で学んだ事がある\n",
      "\n",
      "【まとめ】\n",
      "・プログラミングと統計学の中央値が大学で習ったレベル\n",
      "・機械学習の中央値が体験で使ったことがあるレベル\n"
     ]
    }
   ],
   "source": [
    "plt.boxplot([df['ml_knowledge'],df['coding_knowledge'],df['stats_knowledge']],labels=['Machine Learning','Programing','Stats'])\n",
    "plt.title('Student skill level')\n",
    "plt.show()\n",
    "print('４：仕事で活用してる\\n３：専門書を読んで実装経験がある\\n２：WSやツールで体験した事がある\\n１：大学で学んだ事がある\\n\\n【まとめ】\\n・プログラミングと統計学の中央値が大学で習ったレベル\\n・機械学習の中央値が体験で使ったことがあるレベル')"
   ]
  },
  {
   "cell_type": "code",
   "execution_count": 69,
   "id": "63bc4a12",
   "metadata": {},
   "outputs": [
    {
     "name": "stdout",
     "output_type": "stream",
     "text": [
      "【Student skill levelの標準偏差値（分散度合）】\n",
      "Machine Learning:　1.1489982786475248\n",
      "Programing:　1.0713464664764276\n",
      "Stats:　0.7831350411077501\n",
      "\n",
      "【まとめ】\n",
      "スキルレベル別比較の際は,標準偏差が最も大きいMachineLearningを採用。\n",
      "MachineLearningのスキルレベルが１～２のデータと、３～４のデータに分けて、アンケートの比較を行う。\n"
     ]
    }
   ],
   "source": [
    "print('【Student skill levelの標準偏差値（分散度合）】\\nMachine Learning:　{}\\nPrograming:　{}\\nStats:　{}\\n\\n【まとめ】\\nスキルレベル別比較の際は、標準偏差が最も大きいMachineLearningを採用。\\nMachineLearningのスキルレベルが１～２のデータと、３～４のデータに分けて、アンケートの比較を行う。'.format(df['ml_knowledge'].std(),df['coding_knowledge'].std(),df['stats_knowledge'].std()))"
   ]
  },
  {
   "cell_type": "markdown",
   "id": "6ae4b6a2",
   "metadata": {},
   "source": [
    "# ワークショップの理解度"
   ]
  },
  {
   "cell_type": "markdown",
   "id": "cbd10c8e",
   "metadata": {},
   "source": [
    "### CRISP-DM のついて\n",
    "\n",
    "#### x軸…スキルレベル\n",
    "        ４：仕事で活用してる\n",
    "        ３：専門書を読んで実装経験がある\n",
    "        ２：WSやツールで体験した事がある\n",
    "        １：大学で学んだ事がある\n",
    "#### y軸…CRISPDMの理解度\n",
    "        ５：理解度MAX\n",
    "        １：理解度MIN"
   ]
  },
  {
   "cell_type": "code",
   "execution_count": 82,
   "id": "8c7c924a",
   "metadata": {},
   "outputs": [
    {
     "data": {
      "text/plain": [
       "Text(0.5, 1.0, 'understand level for CRISP-DM')"
      ]
     },
     "execution_count": 82,
     "metadata": {},
     "output_type": "execute_result"
    },
    {
     "data": {
      "image/png": "[encoded data removed]",
      "text/plain": [
       "<Figure size 504x504 with 1 Axes>"
      ]
     },
     "metadata": {
      "needs_background": "light"
     },
     "output_type": "display_data"
    }
   ],
   "source": [
    "plt.rcParams[\"figure.figsize\"] = (7, 7)\n",
    "ax = plt.gca()\n",
    "ax.set_ylim((1,5.1))\n",
    "sns.violinplot(x='ml_knowledge',y='understand_level_crispdm',data=df.sort_values('ml_knowledge'),figsize=(10,10))\n",
    "plt.title('understand level for CRISP-DM',fontsize=12)"
   ]
  },
  {
   "cell_type": "markdown",
   "id": "ba4e8ea4",
   "metadata": {},
   "source": [
    "# 各スキル分野を学ぶモチベーション\n",
    "\n",
    "### このワークショップを通じて、各分野への勉強意欲が掻き立てられたか？\n",
    "\n",
    "#### x軸…スキルレベル\n",
    "        ４：仕事で活用してる\n",
    "        ３：専門書を読んで実装経験がある\n",
    "        ２：WSやツールで体験した事がある\n",
    "        １：大学で学んだ事がある\n",
    "#### y軸…モチベーションレベル\n",
    "        ５：モチベーションMAX\n",
    "        １：モチベーションMIN"
   ]
  },
  {
   "cell_type": "code",
   "execution_count": 127,
   "id": "614b07da",
   "metadata": {},
   "outputs": [
    {
     "data": {
      "text/plain": [
       "Text(0.5, 1.0, 'motivated level for Stats')"
      ]
     },
     "execution_count": 127,
     "metadata": {},
     "output_type": "execute_result"
    },
    {
     "data": {
      "image/png": "[encoded data removed]",
      "text/plain": [
       "<Figure size 864x504 with 3 Axes>"
      ]
     },
     "metadata": {
      "needs_background": "light"
     },
     "output_type": "display_data"
    }
   ],
   "source": [
    "#violinplot,swarmplot,boxplot等も参考になるかも\n",
    "plt.rcParams[\"figure.figsize\"] = (12, 7)\n",
    "\n",
    "\n",
    "plt.subplot(1,3,1)\n",
    "ax = plt.gca()\n",
    "ax.set_ylim((1,5.1))\n",
    "sns.violinplot(x='ml_knowledge',y='motivated_level_ml',data=df.sort_values('ml_knowledge'))\n",
    "plt.title('motivated level for ML',fontsize=12)\n",
    "\n",
    "plt.subplot(1,3,2)\n",
    "ax = plt.gca()\n",
    "ax.set_ylim((1,5.1))\n",
    "\n",
    "sns.violinplot(x='ml_knowledge',y='motivated_level_coding',data=df.sort_values('ml_knowledge'))\n",
    "plt.title('motivated level for Programing',fontsize=12)\n",
    "\n",
    "plt.subplot(1,3,3)\n",
    "ax = plt.gca()\n",
    "ax.set_ylim((1,5.1))\n",
    "sns.violinplot(x='ml_knowledge',y='motivated_level_stats',data=df.sort_values('ml_knowledge'))\n",
    "plt.title('motivated level for Stats',fontsize=12)"
   ]
  },
  {
   "cell_type": "markdown",
   "id": "c33f5012",
   "metadata": {},
   "source": [
    "# ワークショップ参加者の事前スキルを2群にしての比較\n",
    "\n",
    "### 大学で習ったレベル ～ ちょっと体験した事あるレベル　→　low level\n",
    "### 専門書読んで実装した事あるレベル ～ 仕事で使った事あるレベル　→　high level\n",
    "\n",
    "### 2群間で結果に差があるかをチェックする"
   ]
  },
  {
   "cell_type": "code",
   "execution_count": 95,
   "id": "18b0e1e8",
   "metadata": {},
   "outputs": [],
   "source": [
    "df_high_skill = df[df['ml_knowledge'] >= 3]\n",
    "df_low_skill = df[df['ml_knowledge'] < 3]  "
   ]
  },
  {
   "cell_type": "markdown",
   "id": "54821e17",
   "metadata": {},
   "source": [
    "## ワークショップ全体の理解度を2群比較\n",
    "\n",
    "#### x軸…事前スキル別の2群\n",
    "\n",
    "#### y軸…理解度レベル\n",
    "    10：理解度MAX\n",
    "    ５：理解度MID\n",
    "    １：理解度MIN"
   ]
  },
  {
   "cell_type": "code",
   "execution_count": 99,
   "id": "f069d609",
   "metadata": {},
   "outputs": [
    {
     "data": {
      "image/png": "[encoded data removed]",
      "text/plain": [
       "<Figure size 864x504 with 1 Axes>"
      ]
     },
     "metadata": {
      "needs_background": "light"
     },
     "output_type": "display_data"
    },
    {
     "name": "stdout",
     "output_type": "stream",
     "text": [
      "10：理解度MAX\n",
      "５：理解度MID\n",
      "１：理解度MIN\n",
      "\n",
      "【まとめ】\n",
      "・両レベル共に理解度の中央値は８\n",
      "・参加者の半数以上は7～9.5ポイントの分布してる\n"
     ]
    }
   ],
   "source": [
    "plt.boxplot([df_low_skill['understand_level_hole_workshop'],df_high_skill['understand_level_hole_workshop']],labels=['low skills','high skills'])\n",
    "plt.title('Understand level between low_skills & high_skills')\n",
    "plt.show()\n",
    "print('10：理解度MAX\\n５：理解度MID\\n１：理解度MIN\\n\\n【まとめ】\\n・両レベル共に理解度の中央値は８\\n・参加者の半数以上は7～9.5ポイントの分布してる')"
   ]
  },
  {
   "cell_type": "code",
   "execution_count": 107,
   "id": "b6711d32",
   "metadata": {},
   "outputs": [
    {
     "data": {
      "text/plain": [
       "(    low_skill  high_skill\n",
       " 1           8           8\n",
       " 2           0           0\n",
       " 3           7           7\n",
       " 4           2           2\n",
       " 6           0           0\n",
       " 7           2           2\n",
       " 8           6           6\n",
       " 9          10          10\n",
       " 10          8           8\n",
       " 11          7           7\n",
       " 13         10          10\n",
       " 15          7           7\n",
       " 16          8           8\n",
       " 18         10          10\n",
       " 19         10          10\n",
       " 20          3           3\n",
       " 23          0           0\n",
       " 24          5           5\n",
       " 25          8           8\n",
       " 26          0           0\n",
       " 27          8           8\n",
       " 28          2           2,)"
      ]
     },
     "execution_count": 107,
     "metadata": {},
     "output_type": "execute_result"
    }
   ],
   "source": [
    "df_coding_prosess = pd.DataFrame({'low_skill':df_low_skill['learning_process_coding'],'high_skill':df_low_skill['learning_process_coding']}),\n",
    "df_coding_prosess"
   ]
  },
  {
   "cell_type": "markdown",
   "id": "7fd3154b",
   "metadata": {},
   "source": [
    "## プログラミングを学習するなら、基礎から or データ解析特化？\n",
    "\n",
    "#### x軸…プログラミングの学習ステップ\n",
    "    0：基礎から学習したい\n",
    "    10：データ解析に特化して学習したい\n",
    "\n",
    "#### y軸…度数\n"
   ]
  },
  {
   "cell_type": "code",
   "execution_count": 125,
   "id": "d726b2eb",
   "metadata": {},
   "outputs": [
    {
     "data": {
      "image/png": "[encoded data removed]",
      "text/plain": [
       "<Figure size 864x504 with 1 Axes>"
      ]
     },
     "metadata": {
      "needs_background": "light"
     },
     "output_type": "display_data"
    }
   ],
   "source": [
    "plt.hist(df_low_skill['learning_process_coding'],alpha = 0.5, label='low skills')\n",
    "plt.hist(df_high_skill['learning_process_coding'],alpha = 0.5, label='high skills')\n",
    "plt.legend(loc='upper left')\n",
    "plt.show()"
   ]
  },
  {
   "cell_type": "markdown",
   "id": "274dba3b",
   "metadata": {},
   "source": [
    "### 箱ひげ図で見てみると・・・"
   ]
  },
  {
   "cell_type": "code",
   "execution_count": 128,
   "id": "db8a1daa",
   "metadata": {},
   "outputs": [
    {
     "data": {
      "image/png": "[encoded data removed]",
      "text/plain": [
       "<Figure size 864x504 with 1 Axes>"
      ]
     },
     "metadata": {
      "needs_background": "light"
     },
     "output_type": "display_data"
    },
    {
     "name": "stdout",
     "output_type": "stream",
     "text": [
      "10：データ解析特化（実践形式）\n",
      "１：基礎から\n",
      "\n",
      "【まとめ】\n",
      "・両レベル共に理解度の中央値は7\n",
      "・分布が広く、2群に差はないと見える\n",
      "・これは完全に人の好みに分かれてるかと思われる。\n"
     ]
    }
   ],
   "source": [
    "plt.boxplot([df_low_skill['learning_process_coding'],df_high_skill['learning_process_coding']],labels=['low skills','high skills'])\n",
    "plt.title('Learn program from basics or analysis?')\n",
    "plt.show()\n",
    "print('10：データ解析特化（実践形式）\\n１：基礎から\\n\\n【まとめ】\\n・両レベル共に理解度の中央値は7\\n・分布が広く、2群に差はないと見える\\n・これは完全に人の好みに分かれてるかと思われる。')"
   ]
  },
  {
   "cell_type": "markdown",
   "id": "ada37abf",
   "metadata": {},
   "source": [
    "### ヴァイオリンプロットで見てみると・・・"
   ]
  },
  {
   "cell_type": "code",
   "execution_count": 130,
   "id": "26e72e5e",
   "metadata": {},
   "outputs": [
    {
     "data": {
      "image/png": "[encoded data removed]",
      "text/plain": [
       "<Figure size 864x504 with 1 Axes>"
      ]
     },
     "metadata": {
      "needs_background": "light"
     },
     "output_type": "display_data"
    },
    {
     "name": "stdout",
     "output_type": "stream",
     "text": [
      "【まとめ】\n",
      "よくわかんない。個人の好みなのだと思う。\n"
     ]
    }
   ],
   "source": [
    "ax = plt.gca()\n",
    "ax.set_ylim((0.9,10.1))\n",
    "sns.violinplot(x='ml_knowledge',y='learning_process_coding',data=df.sort_values('ml_knowledge'))\n",
    "plt.title('understand level for CRISP-DM',fontsize=12)\n",
    "plt.show()\n",
    "print('【まとめ】\\nよくわかんない。個人の好みなのだと思う。')"
   ]
  },
  {
   "cell_type": "markdown",
   "id": "7a5cd495",
   "metadata": {},
   "source": [
    "## ワークショップの時間、情報量は適切だったか？"
   ]
  },
  {
   "cell_type": "code",
   "execution_count": 133,
   "id": "2e202241",
   "metadata": {},
   "outputs": [
    {
     "data": {
      "image/png": "[encoded data removed]",
      "text/plain": [
       "<Figure size 864x504 with 2 Axes>"
      ]
     },
     "metadata": {
      "needs_background": "light"
     },
     "output_type": "display_data"
    },
    {
     "name": "stdout",
     "output_type": "stream",
     "text": [
      "10：時間長すぎ（内容詰め込み過ぎ）\n",
      "５：丁度良い！\n",
      "１：時間短すぎ（内容薄すぎ）\n",
      "\n",
      "【まとめ】\n",
      "・両レベル共に理解度の中央値は５\n",
      "・参加者の半数以上は４～9６ポイントの分布してる\n"
     ]
    }
   ],
   "source": [
    "plt.rcParams[\"figure.figsize\"] = (12, 7)\n",
    "\n",
    "\n",
    "plt.subplot(1,2,1)\n",
    "ax = plt.gca()\n",
    "ax.set_ylim((0.9,10.1))\n",
    "plt.boxplot([df_low_skill['appropriate_time_hole_workshop'],df_high_skill['appropriate_time_hole_workshop']],labels=['low skills','high skills'])\n",
    "plt.title('Appropriate time between low_skills & high_skills')\n",
    "\n",
    "plt.subplot(1,2,2)\n",
    "ax = plt.gca()\n",
    "ax.set_ylim((0.9,10.1))\n",
    "plt.boxplot([df_low_skill['appropriate_volume_hole_workshop'],df_high_skill['appropriate_volume_hole_workshop']],labels=['low skills','high skills'])\n",
    "plt.title('Appropriate volume between low_skills & high_skills')\n",
    "\n",
    "\n",
    "plt.show()\n",
    "print('10：時間長すぎ（内容詰め込み過ぎ）\\n５：丁度良い！\\n１：時間短すぎ（内容薄すぎ）\\n\\n【まとめ】\\n・両レベル共に理解度の中央値は５\\n・参加者の半数以上は４～9６ポイントの分布してる')"
   ]
  },
  {
   "cell_type": "code",
   "execution_count": 134,
   "id": "4463b5b5",
   "metadata": {},
   "outputs": [],
   "source": [
    "df = pd.read_csv('questionary_for_workshop.csv')\n",
    "df_high_skill = df[df['ml_knowledge'] >= 3]\n",
    "df_low_skill = df[df['ml_knowledge'] < 3]\n",
    "df_high_skill.to_csv('high_skill.csv')\n",
    "df_low_skill.to_csv('low_skill.csv')"
   ]
  },
  {
   "cell_type": "code",
   "execution_count": null,
   "id": "91b02fb7",
   "metadata": {},
   "outputs": [],
   "source": []
  }
 ],
 "metadata": {
  "kernelspec": {
   "display_name": "Python 3 (ipykernel)",
   "language": "python",
   "name": "python3"
  },
  "language_info": {
   "codemirror_mode": {
    "name": "ipython",
    "version": 3
   },
   "file_extension": ".py",
   "mimetype": "text/x-python",
   "name": "python",
   "nbconvert_exporter": "python",
   "pygments_lexer": "ipython3",
   "version": "3.7.7"
  }
 },
 "nbformat": 4,
 "nbformat_minor": 5
}
