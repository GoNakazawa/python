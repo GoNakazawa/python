{
 "cells": [
  {
   "cell_type": "markdown",
   "metadata": {},
   "source": [
    "# <font color=\"white\"> 解析OJT用ツール(Jupyter Notebook)<font>"
   ]
  },
  {
   "cell_type": "code",
   "execution_count": 2,
   "metadata": {},
   "outputs": [],
   "source": [
    "%%capture installer_log\n",
    "!apt-get update && apt-get install -y build-essential\n",
    "!python -m pip install shap\n",
    "!pip install pymc3\n",
    "!pip install tqdm\n",
    "!pip install pandas-profiling\n",
    "!pip install msoffcrypto-tool\n",
    "!pip install japanize-matplotlib\n",
    "!pip install beautifulsoup4\n",
    "!pip install ipywidgets jupyterlab matplotlib\n",
    "!pip install pubchempy\n",
    "%matplotlib inline"
   ]
  },
  {
   "cell_type": "code",
   "execution_count": 3,
   "metadata": {},
   "outputs": [
    {
     "name": "stdout",
     "output_type": "stream",
     "text": [
      "Collecting package metadata (current_repodata.json): done\n",
      "Solving environment: done\n",
      "\n",
      "# All requested packages already installed.\n",
      "\n",
      "Retrieving notices: ...working... done\n"
     ]
    }
   ],
   "source": [
    "# rdkit can't install by pip, so we use the following command to install.\n",
    "! conda install -y -c rdkit rdkit # It takes just a few minites."
   ]
  },
  {
   "cell_type": "code",
   "execution_count": 4,
   "metadata": {},
   "outputs": [],
   "source": [
    "import os\n",
    "import sagemaker\n",
    "import pandas as pd\n",
    "import numpy as np\n",
    "import matplotlib.pyplot as plt\n",
    "from tybmilib import prep\n",
    "from tybmilib import vis\n",
    "from tybmilib import datamgmt\n",
    "from tybmilib import modeling\n",
    "from tybmilib import paramsearch\n",
    "from tybmilib import chemembeding\n",
    "from tybmilib import sampling\n",
    "from tybmilib import myfilename as mfn\n",
    "import pubchempy as pcp\n",
    "from rdkit import rdBase, Chem\n",
    "from rdkit.Chem import AllChem, Draw\n",
    "from rdkit.Chem import MACCSkeys\n",
    "from rdkit import DataStructs\n",
    "import warnings\n",
    "warnings.filterwarnings('ignore')\n",
    "mfn.prepare_folder()"
   ]
  },
  {
   "cell_type": "markdown",
   "metadata": {},
   "source": [
    "## 初期パラメーター設定（★要変更）"
   ]
  },
  {
   "cell_type": "code",
   "execution_count": 5,
   "metadata": {},
   "outputs": [],
   "source": [
    "# 入力データは、このnotebookファイルと同じ階層に配置してください\n",
    "input_filename = \"paint_polymer_ac_mask.csv\"\n",
    "\n",
    "# 各ユーザーは、自身の情報を入力してください\n",
    "department_name = \"deloitte\"\n",
    "user_name = \"yuhei_tachi\"\n",
    "experiment_ID = \"00000\"\n",
    "\n",
    "# 分子構造組み込み利用者は\n",
    "cas_filename = \"cas_master.csv\""
   ]
  },
  {
   "cell_type": "code",
   "execution_count": 6,
   "metadata": {},
   "outputs": [
    {
     "name": "stdout",
     "output_type": "stream",
     "text": [
      "An error occurred (BucketAlreadyOwnedByYou) when calling the CreateBucket operation: Your previous request to create the named bucket succeeded and you already own it.\n"
     ]
    }
   ],
   "source": [
    "# S3の保存先\n",
    "bucket_name = mfn.get_user_s3_bucket(department_name)\n",
    "prefix_name = mfn.get_user_s3_prefix(user_name, experiment_ID)\n",
    "datamgmt.create_user_bucket(bucket_name)\n",
    "\n",
    "# 入力データのS3URL\n",
    "s3uri_original_data = datamgmt.upload_file(bucket_name, input_filename, prefix_name)\n",
    "\n",
    "# CASコードのマスターデータのS3URL\n",
    "s3uri_master_data = datamgmt.upload_file(bucket_name, cas_filename, prefix_name)"
   ]
  },
  {
   "cell_type": "markdown",
   "metadata": {},
   "source": [
    "# <font color=\"white\"> 1. データ投入・確認<font>"
   ]
  },
  {
   "cell_type": "markdown",
   "metadata": {},
   "source": [
    "#### <font color=\"white\"> データ読み込み<font>"
   ]
  },
  {
   "cell_type": "code",
   "execution_count": 7,
   "metadata": {},
   "outputs": [
    {
     "name": "stdout",
     "output_type": "stream",
     "text": [
      "読み込みデータのカラム名: ID,A1,A2,A3,A4,A5,A6,A7,A8,G1,G2,G3,G4,G5,G6,G7,G8,G9,C1,C2,RV,Anneal_Temp,Anneal_Time,Tg,Tm,Jg\n"
     ]
    }
   ],
   "source": [
    "# データ読み込み\n",
    "# 実験データのExcelファイルにパスワードが設定されている場合、データ読み込み時に入力が必要となります。\n",
    "df_s3 = prep.read_s3_bucket_data(s3uri_original_data,experiment_ID)"
   ]
  },
  {
   "cell_type": "markdown",
   "metadata": {},
   "source": [
    "## パラメーター設定（★要変更）"
   ]
  },
  {
   "cell_type": "code",
   "execution_count": 8,
   "metadata": {},
   "outputs": [],
   "source": [
    "# 本ステップで必要な設定項目\n",
    "# 目的変数\n",
    "objectives = [\"Tg\",\"Tm\",\"Jg\"]\n",
    "# 入力データに含まれる不要カラムの指定\n",
    "drop_cols = [\"ID\",\"RV\",\"Anneal_Temp\",\"Anneal_Time\"]\n",
    "\n",
    "#分子構造表現方法（'maccs': MACCS key, 'mfp': Morgan Finger Print）を選択、行わない場合は空欄（''）\n",
    "structure_mode = \"\"\n",
    "#'mfp'を選んだ場合は入力、そうでなければ適当な値を入力\n",
    "radius = 3\n",
    "bit_num = 4096\n",
    "# データ可視化方法\n",
    "# profiles = pandas-profiles / pairplot = N×N散布図行列 / pairplot_1by1 = 1×N散布図行列 / correlation_matrix = 相関変数行列\n",
    "show_plot_method=['pairplot','correlation_matrix']"
   ]
  },
  {
   "cell_type": "markdown",
   "metadata": {},
   "source": [
    "## 処理実行"
   ]
  },
  {
   "cell_type": "markdown",
   "metadata": {},
   "source": [
    "#### <font color=\"white\"> 不要列削除 & 可視化<font>"
   ]
  },
  {
   "cell_type": "code",
   "execution_count": 9,
   "metadata": {},
   "outputs": [
    {
     "data": {
      "application/vnd.jupyter.widget-view+json": {
       "model_id": "e4235b777d42447eabeac6f91d99e46d",
       "version_major": 2,
       "version_minor": 0
      },
      "text/plain": [
       "  0%|          | 0/1 [00:00<?, ?it/s]"
      ]
     },
     "metadata": {},
     "output_type": "display_data"
    },
    {
     "data": {
      "application/vnd.jupyter.widget-view+json": {
       "model_id": "533415d2638d407faefdcec9d5a47ff2",
       "version_major": 2,
       "version_minor": 0
      },
      "text/plain": [
       "  0%|          | 0/1 [00:00<?, ?it/s]"
      ]
     },
     "metadata": {},
     "output_type": "display_data"
    }
   ],
   "source": [
    "# 不要列の削除\n",
    "# 実験データ内で不要カラムがある場合には、drop_colsのリスト内にカラム名を追加し削除して下さい。\n",
    "df_reg = prep.drop_cols(df_s3,drop_cols,experiment_ID)\n",
    "\n",
    "# データ可視化\n",
    "vis.show_plot(df_reg, bucket_name, prefix_name, experiment_ID, show_plot_method)"
   ]
  },
  {
   "cell_type": "markdown",
   "metadata": {},
   "source": [
    "#### 分子構造組込の準備と、分子構造の可視化"
   ]
  },
  {
   "cell_type": "markdown",
   "metadata": {},
   "source": [
    "##### <font color=\"red\"> 分子構造組込を実行しない方も、以下のセルを実行してください。"
   ]
  },
  {
   "cell_type": "code",
   "execution_count": 10,
   "metadata": {},
   "outputs": [
    {
     "name": "stdout",
     "output_type": "stream",
     "text": [
      "読み込みデータのカラム名: Source_Name,CAS\n"
     ]
    }
   ],
   "source": [
    "#CASコードのSMILE表記取得\n",
    "chem = chemembeding.Features(s3uri_master_data,df_reg.columns, experiment_ID,structure_mode,radius,bit_num)\n",
    "mol_list, true_name_list = chem.get_smiles()\n",
    "#Morgan Fingerprint指定時に、分子構造の特徴を一覧で可視化\n",
    "chem.preview_chemical()"
   ]
  },
  {
   "cell_type": "markdown",
   "metadata": {},
   "source": [
    "#### <font color=\"white\"> 学習データ作成<font>"
   ]
  },
  {
   "cell_type": "code",
   "execution_count": 11,
   "metadata": {},
   "outputs": [
    {
     "name": "stdout",
     "output_type": "stream",
     "text": [
      "=========dataフォルダへの格納データ=========\n",
      "目的変数: Tg\n",
      "学習データ: train_Tg.csv\n",
      "目的変数: Tm\n",
      "学習データ: train_Tm.csv\n",
      "目的変数: Jg\n",
      "学習データ: train_Jg.csv\n",
      "説明変数のみデータ: train(only_x).csv\n",
      "目的変数のみデータ: train(only_y).csv\n",
      "------------------------------\n",
      "#=========【途中再起動した場合、別セルに貼り付け、実行】以下の情報は、次セクションでも利用します。=========\n",
      "objectives = ['Tg', 'Tm', 'Jg']\n",
      "s3_uri_list = ['s3://mi-deloitte/yuhei_tachi/00000/train_Tg.csv', 's3://mi-deloitte/yuhei_tachi/00000/train_Tm.csv', 's3://mi-deloitte/yuhei_tachi/00000/train_Jg.csv']\n",
      "traindata_path_list = ['/root/poc/doe/test_rv1_new_tool/data/train_Tg.csv', '/root/poc/doe/test_rv1_new_tool/data/train_Tm.csv', '/root/poc/doe/test_rv1_new_tool/data/train_Jg.csv']\n",
      "role = 'arn:aws:iam::375869297825:role/AmazonSageMaker-ExecutionRole-20211228T101010'\n",
      "bucket_name = 'mi-deloitte'\n",
      "user_name = 'yuhei_tachi'\n",
      "experiment_ID = '00000'\n"
     ]
    }
   ],
   "source": [
    "# 学習データの作成\n",
    "df_chem = chem.generate_fingerprint_dataset(df_reg, objectives)\n",
    "# サンプリング用のファイルを生成\n",
    "prep.create_sampling_prepare(df_reg,experiment_ID,objectives=objectives)\n",
    "# 目的変数分の学習データを作成し、S3のSageMaker用ディレクトリに格納\n",
    "traindata_path_list = prep.create_multi_traindata(df_chem,experiment_ID,objectives=objectives)\n",
    "s3_uri_list = datamgmt.upload_file_list(bucket_name, traindata_path_list, prefix_name)\n",
    "\n",
    "# 次のステップで使用する情報を提示\n",
    "role = sagemaker.get_execution_role()\n",
    "prep.present_info(objectives,s3_uri_list,traindata_path_list,role,bucket_name,user_name,experiment_ID)"
   ]
  },
  {
   "cell_type": "markdown",
   "metadata": {},
   "source": [
    "---"
   ]
  },
  {
   "cell_type": "markdown",
   "metadata": {},
   "source": [
    "# <font color=\"white\"> 2. モデル構築・評価<font>"
   ]
  },
  {
   "cell_type": "markdown",
   "metadata": {},
   "source": [
    "## パラメーター設定（★要変更）"
   ]
  },
  {
   "cell_type": "code",
   "execution_count": 12,
   "metadata": {},
   "outputs": [],
   "source": [
    "# 本ステップで必要な設定項目\n",
    "# 機械学習モデルの指定\n",
    "#'Regression|BinaryClassification|MulticlassClassification'\n",
    "problemtype = 'Regression'\n",
    "\n",
    "# モデル評価指標の設定\n",
    "# Regressionの場合:'MSE' / BinaryClassificationの場合:'F1' / MulticlassClassificationの場合:'F1macro'を指定\n",
    "metrics = 'MSE'"
   ]
  },
  {
   "cell_type": "markdown",
   "metadata": {},
   "source": [
    "## 処理実行"
   ]
  },
  {
   "cell_type": "markdown",
   "metadata": {},
   "source": [
    "#### <font color=\"white\"> モデル学習<font>"
   ]
  },
  {
   "cell_type": "code",
   "execution_count": 13,
   "metadata": {},
   "outputs": [
    {
     "name": "stdout",
     "output_type": "stream",
     "text": [
      "目的変数：Tg\n",
      "An error occurred (BucketAlreadyOwnedByYou) when calling the CreateBucket operation: Your previous request to create the named bucket succeeded and you already own it.\n"
     ]
    },
    {
     "data": {
      "application/vnd.jupyter.widget-view+json": {
       "model_id": "017608e4859d4b94a2d078e2c5a159a3",
       "version_major": 2,
       "version_minor": 0
      },
      "text/plain": [
       "  0%|          | 0/5 [00:00<?, ?it/s]"
      ]
     },
     "metadata": {},
     "output_type": "display_data"
    },
    {
     "name": "stdout",
     "output_type": "stream",
     "text": [
      "Metric: validation:mse\n",
      "Value: 0.09029000252485275\n",
      "=========正常終了=========\n",
      "モデル名: ml-yuhei-tachi-0-00000\n",
      "------------------------------\n",
      "目的変数：Tm\n",
      "An error occurred (BucketAlreadyOwnedByYou) when calling the CreateBucket operation: Your previous request to create the named bucket succeeded and you already own it.\n"
     ]
    },
    {
     "data": {
      "application/vnd.jupyter.widget-view+json": {
       "model_id": "368b722191dc4a7492f49a0930c4c7c8",
       "version_major": 2,
       "version_minor": 0
      },
      "text/plain": [
       "  0%|          | 0/5 [00:00<?, ?it/s]"
      ]
     },
     "metadata": {},
     "output_type": "display_data"
    },
    {
     "name": "stdout",
     "output_type": "stream",
     "text": [
      "Metric: validation:mse\n",
      "Value: 0.014030000194907188\n",
      "=========正常終了=========\n",
      "モデル名: ml-yuhei-tachi-1-00000\n",
      "------------------------------\n",
      "目的変数：Jg\n",
      "An error occurred (BucketAlreadyOwnedByYou) when calling the CreateBucket operation: Your previous request to create the named bucket succeeded and you already own it.\n"
     ]
    },
    {
     "data": {
      "application/vnd.jupyter.widget-view+json": {
       "model_id": "16cb3c771d3c4f68ba535a6a6850a7f0",
       "version_major": 2,
       "version_minor": 0
      },
      "text/plain": [
       "  0%|          | 0/5 [00:00<?, ?it/s]"
      ]
     },
     "metadata": {},
     "output_type": "display_data"
    },
    {
     "name": "stdout",
     "output_type": "stream",
     "text": [
      "Metric: validation:mse\n",
      "Value: 0.024150000885128975\n",
      "=========正常終了=========\n",
      "モデル名: ml-yuhei-tachi-2-00000\n",
      "------------------------------\n"
     ]
    }
   ],
   "source": [
    "mlmodel = modeling.SagemakerCtrl(bucket_name,role,experiment_ID,user_name,problemtype,metrics)\n",
    "model_list = mlmodel.fit_multi_model(objectives, s3_uri_list)"
   ]
  },
  {
   "cell_type": "markdown",
   "metadata": {},
   "source": [
    "#### <font color=\"white\"> モデル評価<font>"
   ]
  },
  {
   "cell_type": "code",
   "execution_count": 14,
   "metadata": {},
   "outputs": [
    {
     "data": {
      "application/vnd.jupyter.widget-view+json": {
       "model_id": "43c58586123c4a88922e714f87b1eedf",
       "version_major": 2,
       "version_minor": 0
      },
      "text/plain": [
       "  0%|          | 0/3 [00:00<?, ?it/s]"
      ]
     },
     "metadata": {},
     "output_type": "display_data"
    },
    {
     "name": "stdout",
     "output_type": "stream",
     "text": [
      "=====目的変数:Tg デプロイモデルの性能評価=====\n",
      "決定係数R2: 1.00 MAE: 0.09 MSE: 0.08 RMSE: 0.28\n",
      "=====目的変数:Tm デプロイモデルの性能評価=====\n",
      "決定係数R2: 1.00 MAE: 0.02 MSE: 0.01 RMSE: 0.11\n",
      "=====目的変数:Jg デプロイモデルの性能評価=====\n",
      "決定係数R2: 1.00 MAE: 0.03 MSE: 0.02 RMSE: 0.15\n",
      "=========outputフォルダへの格納データ=========\n",
      "テストデータとの比較結果: test_Tg.png\n",
      "テストデータとの比較結果: test_Tm.png\n",
      "テストデータとの比較結果: test_Jg.png\n",
      "====(参考)目的変数:Tg 線形モデルの性能評価====\n",
      "決定係数R2:  0.92 MAE:  5.57 MSE:  84.86 RMSE:  9.21\n",
      "=========outputフォルダへの格納データ=========\n",
      "coef値グラフ(全変数/重要変数): visulize_linear_(coef_all/coef_importance)_Tg.png\n",
      "====(参考)目的変数:Tm 線形モデルの性能評価====\n",
      "決定係数R2:  0.67 MAE:  9.04 MSE:  160.18 RMSE:  12.66\n",
      "=========outputフォルダへの格納データ=========\n",
      "coef値グラフ(全変数/重要変数): visulize_linear_(coef_all/coef_importance)_Tm.png\n",
      "====(参考)目的変数:Jg 線形モデルの性能評価====\n",
      "決定係数R2:  0.60 MAE:  3.66 MSE:  22.54 RMSE:  4.75\n",
      "=========outputフォルダへの格納データ=========\n",
      "coef値グラフ(全変数/重要変数): visulize_linear_(coef_all/coef_importance)_Jg.png\n",
      "------------------------------\n"
     ]
    },
    {
     "data": {
      "application/vnd.jupyter.widget-view+json": {
       "model_id": "5f5417703ee14632a28b37ed52071470",
       "version_major": 2,
       "version_minor": 0
      },
      "text/plain": [
       "  0%|          | 0/3 [00:00<?, ?it/s]"
      ]
     },
     "metadata": {},
     "output_type": "display_data"
    },
    {
     "name": "stdout",
     "output_type": "stream",
     "text": [
      "=====目的変数:Tg Shap値レポート=====\n",
      "/root/poc/doe/test_rv1_new_tool/output/report_Tg.html\n",
      "=====目的変数:Tm Shap値レポート=====\n",
      "/root/poc/doe/test_rv1_new_tool/output/report_Tm.html\n",
      "=====目的変数:Jg Shap値レポート=====\n",
      "/root/poc/doe/test_rv1_new_tool/output/report_Jg.html\n",
      "------------------------------\n",
      "#=========【途中再起動した場合、別セルに貼り付け、実行】以下の情報は、次セクションでも利用します。=========\n",
      "objectives = ['Tg', 'Tm', 'Jg']\n",
      "model_list = ['ml-yuhei-tachi-0-00000', 'ml-yuhei-tachi-1-00000', 'ml-yuhei-tachi-2-00000']\n",
      "problemtype = 'Regression'\n",
      "user_name = 'yuhei_tachi'\n",
      "experiment_ID = '00000'\n"
     ]
    }
   ],
   "source": [
    "# テストデータでの評価値\n",
    "mlmodel.estimate_multi_testdata(objectives,model_list,traindata_path_list)\n",
    "# 線形モデルでの係数\n",
    "mlmodel.estimate_multi_coefficients(objectives,traindata_path_list)\n",
    "# Shap値出力\n",
    "mlmodel.analyze_multi_model(objectives,s3_uri_list,traindata_path_list,model_list)\n",
    "\n",
    "# 次のステップで使用する情報を提示\n",
    "mlmodel.present_info(objectives, model_list)"
   ]
  },
  {
   "cell_type": "markdown",
   "metadata": {},
   "source": [
    "---"
   ]
  },
  {
   "cell_type": "markdown",
   "metadata": {},
   "source": [
    "# <font color=\"white\"> 3. テスト用サンプル作成/読み込み（ここから実験計画のPoC独自のコード）<font>"
   ]
  },
  {
   "cell_type": "markdown",
   "metadata": {},
   "source": [
    "## パラメーター設定（★要変更）"
   ]
  },
  {
   "cell_type": "markdown",
   "metadata": {},
   "source": [
    "#### <font color=\"white\"> 途中実行する場合での引継ぎ情報<font>"
   ]
  },
  {
   "cell_type": "code",
   "execution_count": null,
   "metadata": {},
   "outputs": [],
   "source": [
    "#=========【途中再起動した場合、別セルに貼り付け、実行】以下の情報は、次セクションでも利用します。=========\n",
    "model_list = [\"ml-yuhei-tachi-0-00000\", \"ml-yuhei-tachi-1-00000\", \"ml-yuhei-tachi-2-00000\"]"
   ]
  },
  {
   "cell_type": "code",
   "execution_count": null,
   "metadata": {},
   "outputs": [],
   "source": [
    "# テスト用のターゲット物性を入力\n",
    "doe_test_target = 'Tg'\n",
    "doe_test_target_value = 40"
   ]
  },
  {
   "cell_type": "markdown",
   "metadata": {},
   "source": [
    "## 処理実行"
   ]
  },
  {
   "cell_type": "markdown",
   "metadata": {},
   "source": [
    "#### <font color=\"white\"> 実験サンプル生成（★要変更）<font>"
   ]
  },
  {
   "cell_type": "code",
   "execution_count": 15,
   "metadata": {},
   "outputs": [],
   "source": [
    "# テストに使うターゲット物性を入力\n",
    "doe_test_target = 'Tg'\n",
    "# ターゲット物性値を入力（現状は、テストなのである数値以上のみ想定）\n",
    "doe_test_target_value = 40\n",
    "# 制約条件として、100にするグループ（現状は、テストなので重合で酸とグリコールの場合のみ想定）\n",
    "acid_list = ['A1','A2','A3','A4','A5','A6','A7']\n",
    "glycol_list = ['G1','G2','G3','G4','G5','G6','G7','G8','G9']\n",
    "# 実験サンプルの出力ファイル名を入力\n",
    "samples_file_name = 'samples_noise.csv'"
   ]
  },
  {
   "cell_type": "code",
   "execution_count": 16,
   "metadata": {},
   "outputs": [
    {
     "data": {
      "text/html": [
       "<div>\n",
       "<style scoped>\n",
       "    .dataframe tbody tr th:only-of-type {\n",
       "        vertical-align: middle;\n",
       "    }\n",
       "\n",
       "    .dataframe tbody tr th {\n",
       "        vertical-align: top;\n",
       "    }\n",
       "\n",
       "    .dataframe thead th {\n",
       "        text-align: right;\n",
       "    }\n",
       "</style>\n",
       "<table border=\"1\" class=\"dataframe\">\n",
       "  <thead>\n",
       "    <tr style=\"text-align: right;\">\n",
       "      <th></th>\n",
       "      <th>A1</th>\n",
       "      <th>A2</th>\n",
       "      <th>A3</th>\n",
       "      <th>A4</th>\n",
       "      <th>A5</th>\n",
       "      <th>A6</th>\n",
       "      <th>A7</th>\n",
       "      <th>A8</th>\n",
       "      <th>G1</th>\n",
       "      <th>G2</th>\n",
       "      <th>G3</th>\n",
       "      <th>G4</th>\n",
       "      <th>G5</th>\n",
       "      <th>G6</th>\n",
       "      <th>G7</th>\n",
       "      <th>G8</th>\n",
       "      <th>G9</th>\n",
       "      <th>C1</th>\n",
       "      <th>C2</th>\n",
       "    </tr>\n",
       "  </thead>\n",
       "  <tbody>\n",
       "    <tr>\n",
       "      <th>0</th>\n",
       "      <td>66.0</td>\n",
       "      <td>34.0</td>\n",
       "      <td>0</td>\n",
       "      <td>0</td>\n",
       "      <td>0.0</td>\n",
       "      <td>0.0</td>\n",
       "      <td>0</td>\n",
       "      <td>0</td>\n",
       "      <td>14</td>\n",
       "      <td>0</td>\n",
       "      <td>0</td>\n",
       "      <td>0</td>\n",
       "      <td>0</td>\n",
       "      <td>55.0</td>\n",
       "      <td>0</td>\n",
       "      <td>31</td>\n",
       "      <td>0.0</td>\n",
       "      <td>0.0</td>\n",
       "      <td>0</td>\n",
       "    </tr>\n",
       "    <tr>\n",
       "      <th>1</th>\n",
       "      <td>83.0</td>\n",
       "      <td>17.0</td>\n",
       "      <td>0</td>\n",
       "      <td>0</td>\n",
       "      <td>0.0</td>\n",
       "      <td>0.0</td>\n",
       "      <td>0</td>\n",
       "      <td>0</td>\n",
       "      <td>7</td>\n",
       "      <td>0</td>\n",
       "      <td>0</td>\n",
       "      <td>0</td>\n",
       "      <td>0</td>\n",
       "      <td>64.0</td>\n",
       "      <td>0</td>\n",
       "      <td>29</td>\n",
       "      <td>0.0</td>\n",
       "      <td>0.0</td>\n",
       "      <td>0</td>\n",
       "    </tr>\n",
       "    <tr>\n",
       "      <th>2</th>\n",
       "      <td>86.0</td>\n",
       "      <td>14.0</td>\n",
       "      <td>0</td>\n",
       "      <td>0</td>\n",
       "      <td>0.0</td>\n",
       "      <td>0.0</td>\n",
       "      <td>0</td>\n",
       "      <td>0</td>\n",
       "      <td>0</td>\n",
       "      <td>0</td>\n",
       "      <td>0</td>\n",
       "      <td>0</td>\n",
       "      <td>0</td>\n",
       "      <td>64.0</td>\n",
       "      <td>0</td>\n",
       "      <td>36</td>\n",
       "      <td>0.0</td>\n",
       "      <td>0.0</td>\n",
       "      <td>0</td>\n",
       "    </tr>\n",
       "    <tr>\n",
       "      <th>3</th>\n",
       "      <td>86.0</td>\n",
       "      <td>14.0</td>\n",
       "      <td>0</td>\n",
       "      <td>0</td>\n",
       "      <td>0.0</td>\n",
       "      <td>0.0</td>\n",
       "      <td>0</td>\n",
       "      <td>0</td>\n",
       "      <td>10</td>\n",
       "      <td>0</td>\n",
       "      <td>0</td>\n",
       "      <td>0</td>\n",
       "      <td>0</td>\n",
       "      <td>59.0</td>\n",
       "      <td>0</td>\n",
       "      <td>32</td>\n",
       "      <td>0.0</td>\n",
       "      <td>0.0</td>\n",
       "      <td>0</td>\n",
       "    </tr>\n",
       "    <tr>\n",
       "      <th>4</th>\n",
       "      <td>81.0</td>\n",
       "      <td>19.0</td>\n",
       "      <td>0</td>\n",
       "      <td>0</td>\n",
       "      <td>0.0</td>\n",
       "      <td>0.0</td>\n",
       "      <td>0</td>\n",
       "      <td>0</td>\n",
       "      <td>5</td>\n",
       "      <td>0</td>\n",
       "      <td>0</td>\n",
       "      <td>0</td>\n",
       "      <td>0</td>\n",
       "      <td>65.0</td>\n",
       "      <td>0</td>\n",
       "      <td>30</td>\n",
       "      <td>0.0</td>\n",
       "      <td>0.0</td>\n",
       "      <td>0</td>\n",
       "    </tr>\n",
       "    <tr>\n",
       "      <th>5</th>\n",
       "      <td>81.0</td>\n",
       "      <td>19.0</td>\n",
       "      <td>0</td>\n",
       "      <td>0</td>\n",
       "      <td>0.0</td>\n",
       "      <td>0.0</td>\n",
       "      <td>0</td>\n",
       "      <td>0</td>\n",
       "      <td>0</td>\n",
       "      <td>0</td>\n",
       "      <td>0</td>\n",
       "      <td>0</td>\n",
       "      <td>0</td>\n",
       "      <td>67.0</td>\n",
       "      <td>7</td>\n",
       "      <td>26</td>\n",
       "      <td>0.0</td>\n",
       "      <td>0.0</td>\n",
       "      <td>0</td>\n",
       "    </tr>\n",
       "    <tr>\n",
       "      <th>6</th>\n",
       "      <td>81.0</td>\n",
       "      <td>14.0</td>\n",
       "      <td>5</td>\n",
       "      <td>0</td>\n",
       "      <td>0.0</td>\n",
       "      <td>0.0</td>\n",
       "      <td>0</td>\n",
       "      <td>0</td>\n",
       "      <td>12</td>\n",
       "      <td>0</td>\n",
       "      <td>0</td>\n",
       "      <td>0</td>\n",
       "      <td>0</td>\n",
       "      <td>59.0</td>\n",
       "      <td>0</td>\n",
       "      <td>29</td>\n",
       "      <td>0.0</td>\n",
       "      <td>0.0</td>\n",
       "      <td>0</td>\n",
       "    </tr>\n",
       "    <tr>\n",
       "      <th>7</th>\n",
       "      <td>80.0</td>\n",
       "      <td>19.0</td>\n",
       "      <td>0</td>\n",
       "      <td>0</td>\n",
       "      <td>0.0</td>\n",
       "      <td>0.0</td>\n",
       "      <td>0</td>\n",
       "      <td>1</td>\n",
       "      <td>7</td>\n",
       "      <td>0</td>\n",
       "      <td>0</td>\n",
       "      <td>0</td>\n",
       "      <td>0</td>\n",
       "      <td>62.0</td>\n",
       "      <td>0</td>\n",
       "      <td>31</td>\n",
       "      <td>0.0</td>\n",
       "      <td>0.0</td>\n",
       "      <td>0</td>\n",
       "    </tr>\n",
       "    <tr>\n",
       "      <th>8</th>\n",
       "      <td>81.0</td>\n",
       "      <td>19.0</td>\n",
       "      <td>0</td>\n",
       "      <td>0</td>\n",
       "      <td>0.0</td>\n",
       "      <td>0.0</td>\n",
       "      <td>0</td>\n",
       "      <td>0</td>\n",
       "      <td>15</td>\n",
       "      <td>0</td>\n",
       "      <td>0</td>\n",
       "      <td>0</td>\n",
       "      <td>0</td>\n",
       "      <td>54.0</td>\n",
       "      <td>0</td>\n",
       "      <td>31</td>\n",
       "      <td>0.0</td>\n",
       "      <td>0.0</td>\n",
       "      <td>0</td>\n",
       "    </tr>\n",
       "    <tr>\n",
       "      <th>9</th>\n",
       "      <td>71.0</td>\n",
       "      <td>19.0</td>\n",
       "      <td>10</td>\n",
       "      <td>0</td>\n",
       "      <td>0.0</td>\n",
       "      <td>0.0</td>\n",
       "      <td>0</td>\n",
       "      <td>0</td>\n",
       "      <td>4</td>\n",
       "      <td>0</td>\n",
       "      <td>0</td>\n",
       "      <td>0</td>\n",
       "      <td>0</td>\n",
       "      <td>67.0</td>\n",
       "      <td>0</td>\n",
       "      <td>29</td>\n",
       "      <td>0.0</td>\n",
       "      <td>0.0</td>\n",
       "      <td>0</td>\n",
       "    </tr>\n",
       "  </tbody>\n",
       "</table>\n",
       "</div>"
      ],
      "text/plain": [
       "     A1    A2  A3  A4   A5   A6  A7  A8  G1  G2  G3  G4  G5    G6  G7  G8  \\\n",
       "0  66.0  34.0   0   0  0.0  0.0   0   0  14   0   0   0   0  55.0   0  31   \n",
       "1  83.0  17.0   0   0  0.0  0.0   0   0   7   0   0   0   0  64.0   0  29   \n",
       "2  86.0  14.0   0   0  0.0  0.0   0   0   0   0   0   0   0  64.0   0  36   \n",
       "3  86.0  14.0   0   0  0.0  0.0   0   0  10   0   0   0   0  59.0   0  32   \n",
       "4  81.0  19.0   0   0  0.0  0.0   0   0   5   0   0   0   0  65.0   0  30   \n",
       "5  81.0  19.0   0   0  0.0  0.0   0   0   0   0   0   0   0  67.0   7  26   \n",
       "6  81.0  14.0   5   0  0.0  0.0   0   0  12   0   0   0   0  59.0   0  29   \n",
       "7  80.0  19.0   0   0  0.0  0.0   0   1   7   0   0   0   0  62.0   0  31   \n",
       "8  81.0  19.0   0   0  0.0  0.0   0   0  15   0   0   0   0  54.0   0  31   \n",
       "9  71.0  19.0  10   0  0.0  0.0   0   0   4   0   0   0   0  67.0   0  29   \n",
       "\n",
       "    G9   C1  C2  \n",
       "0  0.0  0.0   0  \n",
       "1  0.0  0.0   0  \n",
       "2  0.0  0.0   0  \n",
       "3  0.0  0.0   0  \n",
       "4  0.0  0.0   0  \n",
       "5  0.0  0.0   0  \n",
       "6  0.0  0.0   0  \n",
       "7  0.0  0.0   0  \n",
       "8  0.0  0.0   0  \n",
       "9  0.0  0.0   0  "
      ]
     },
     "execution_count": 16,
     "metadata": {},
     "output_type": "execute_result"
    }
   ],
   "source": [
    "# ノイズを加える前のデータを取得\n",
    "samples = df_reg[df_reg[doe_test_target] >= doe_test_target_value].reset_index().drop(['index'] + objectives, axis=1)\n",
    "samples.head(10)"
   ]
  },
  {
   "cell_type": "code",
   "execution_count": 17,
   "metadata": {},
   "outputs": [],
   "source": [
    "# ノイズを加える\n",
    "for i,column in enumerate(samples.columns):\n",
    "    mu, sigma = 0, 0.05\n",
    "    np.random.seed(i)\n",
    "    noise = np.abs(np.random.normal(mu, sigma, (len(samples), 1))) * df_reg[column].mean()\n",
    "    index = list(samples[samples[column] != 0.0].index)\n",
    "    samples[column][index] = samples[column][index] + pd.DataFrame(noise)[0][index]"
   ]
  },
  {
   "cell_type": "code",
   "execution_count": 18,
   "metadata": {},
   "outputs": [
    {
     "data": {
      "text/html": [
       "<div>\n",
       "<style scoped>\n",
       "    .dataframe tbody tr th:only-of-type {\n",
       "        vertical-align: middle;\n",
       "    }\n",
       "\n",
       "    .dataframe tbody tr th {\n",
       "        vertical-align: top;\n",
       "    }\n",
       "\n",
       "    .dataframe thead th {\n",
       "        text-align: right;\n",
       "    }\n",
       "</style>\n",
       "<table border=\"1\" class=\"dataframe\">\n",
       "  <thead>\n",
       "    <tr style=\"text-align: right;\">\n",
       "      <th></th>\n",
       "      <th>A1</th>\n",
       "      <th>A2</th>\n",
       "      <th>A3</th>\n",
       "      <th>A4</th>\n",
       "      <th>A5</th>\n",
       "      <th>A6</th>\n",
       "      <th>A7</th>\n",
       "      <th>A8</th>\n",
       "      <th>G1</th>\n",
       "      <th>G2</th>\n",
       "      <th>G3</th>\n",
       "      <th>G4</th>\n",
       "      <th>G5</th>\n",
       "      <th>G6</th>\n",
       "      <th>G7</th>\n",
       "      <th>G8</th>\n",
       "      <th>G9</th>\n",
       "      <th>C1</th>\n",
       "      <th>C2</th>\n",
       "    </tr>\n",
       "  </thead>\n",
       "  <tbody>\n",
       "    <tr>\n",
       "      <th>0</th>\n",
       "      <td>72.277571</td>\n",
       "      <td>35.271327</td>\n",
       "      <td>0.000000</td>\n",
       "      <td>0.0</td>\n",
       "      <td>0.0</td>\n",
       "      <td>0.0</td>\n",
       "      <td>0.0</td>\n",
       "      <td>0.000000</td>\n",
       "      <td>14.031559</td>\n",
       "      <td>0.0</td>\n",
       "      <td>0.0</td>\n",
       "      <td>0.0</td>\n",
       "      <td>0.0</td>\n",
       "      <td>57.338503</td>\n",
       "      <td>0.000000</td>\n",
       "      <td>31.237618</td>\n",
       "      <td>0.0</td>\n",
       "      <td>0.0</td>\n",
       "      <td>0.0</td>\n",
       "    </tr>\n",
       "    <tr>\n",
       "      <th>1</th>\n",
       "      <td>84.424003</td>\n",
       "      <td>17.478804</td>\n",
       "      <td>0.000000</td>\n",
       "      <td>0.0</td>\n",
       "      <td>0.0</td>\n",
       "      <td>0.0</td>\n",
       "      <td>0.0</td>\n",
       "      <td>0.000000</td>\n",
       "      <td>7.377609</td>\n",
       "      <td>0.0</td>\n",
       "      <td>0.0</td>\n",
       "      <td>0.0</td>\n",
       "      <td>0.0</td>\n",
       "      <td>66.474324</td>\n",
       "      <td>0.000000</td>\n",
       "      <td>29.258126</td>\n",
       "      <td>0.0</td>\n",
       "      <td>0.0</td>\n",
       "      <td>0.0</td>\n",
       "    </tr>\n",
       "    <tr>\n",
       "      <th>2</th>\n",
       "      <td>89.482945</td>\n",
       "      <td>14.413384</td>\n",
       "      <td>0.000000</td>\n",
       "      <td>0.0</td>\n",
       "      <td>0.0</td>\n",
       "      <td>0.0</td>\n",
       "      <td>0.0</td>\n",
       "      <td>0.000000</td>\n",
       "      <td>0.000000</td>\n",
       "      <td>0.0</td>\n",
       "      <td>0.0</td>\n",
       "      <td>0.0</td>\n",
       "      <td>0.0</td>\n",
       "      <td>64.146086</td>\n",
       "      <td>0.000000</td>\n",
       "      <td>36.118615</td>\n",
       "      <td>0.0</td>\n",
       "      <td>0.0</td>\n",
       "      <td>0.0</td>\n",
       "    </tr>\n",
       "    <tr>\n",
       "      <th>3</th>\n",
       "      <td>93.974460</td>\n",
       "      <td>14.839781</td>\n",
       "      <td>0.000000</td>\n",
       "      <td>0.0</td>\n",
       "      <td>0.0</td>\n",
       "      <td>0.0</td>\n",
       "      <td>0.0</td>\n",
       "      <td>0.000000</td>\n",
       "      <td>10.479708</td>\n",
       "      <td>0.0</td>\n",
       "      <td>0.0</td>\n",
       "      <td>0.0</td>\n",
       "      <td>0.0</td>\n",
       "      <td>60.483125</td>\n",
       "      <td>0.000000</td>\n",
       "      <td>32.381759</td>\n",
       "      <td>0.0</td>\n",
       "      <td>0.0</td>\n",
       "      <td>0.0</td>\n",
       "    </tr>\n",
       "    <tr>\n",
       "      <th>4</th>\n",
       "      <td>87.645907</td>\n",
       "      <td>19.677329</td>\n",
       "      <td>0.000000</td>\n",
       "      <td>0.0</td>\n",
       "      <td>0.0</td>\n",
       "      <td>0.0</td>\n",
       "      <td>0.0</td>\n",
       "      <td>0.000000</td>\n",
       "      <td>5.794638</td>\n",
       "      <td>0.0</td>\n",
       "      <td>0.0</td>\n",
       "      <td>0.0</td>\n",
       "      <td>0.0</td>\n",
       "      <td>69.415449</td>\n",
       "      <td>0.000000</td>\n",
       "      <td>30.179220</td>\n",
       "      <td>0.0</td>\n",
       "      <td>0.0</td>\n",
       "      <td>0.0</td>\n",
       "    </tr>\n",
       "    <tr>\n",
       "      <th>5</th>\n",
       "      <td>84.477749</td>\n",
       "      <td>20.801346</td>\n",
       "      <td>0.000000</td>\n",
       "      <td>0.0</td>\n",
       "      <td>0.0</td>\n",
       "      <td>0.0</td>\n",
       "      <td>0.0</td>\n",
       "      <td>0.000000</td>\n",
       "      <td>0.000000</td>\n",
       "      <td>0.0</td>\n",
       "      <td>0.0</td>\n",
       "      <td>0.0</td>\n",
       "      <td>0.0</td>\n",
       "      <td>68.747460</td>\n",
       "      <td>7.003206</td>\n",
       "      <td>27.341743</td>\n",
       "      <td>0.0</td>\n",
       "      <td>0.0</td>\n",
       "      <td>0.0</td>\n",
       "    </tr>\n",
       "    <tr>\n",
       "      <th>6</th>\n",
       "      <td>84.380992</td>\n",
       "      <td>15.365613</td>\n",
       "      <td>5.084576</td>\n",
       "      <td>0.0</td>\n",
       "      <td>0.0</td>\n",
       "      <td>0.0</td>\n",
       "      <td>0.0</td>\n",
       "      <td>0.000000</td>\n",
       "      <td>12.597871</td>\n",
       "      <td>0.0</td>\n",
       "      <td>0.0</td>\n",
       "      <td>0.0</td>\n",
       "      <td>0.0</td>\n",
       "      <td>63.432145</td>\n",
       "      <td>0.000000</td>\n",
       "      <td>29.833727</td>\n",
       "      <td>0.0</td>\n",
       "      <td>0.0</td>\n",
       "      <td>0.0</td>\n",
       "    </tr>\n",
       "    <tr>\n",
       "      <th>7</th>\n",
       "      <td>80.538621</td>\n",
       "      <td>19.595774</td>\n",
       "      <td>0.000000</td>\n",
       "      <td>0.0</td>\n",
       "      <td>0.0</td>\n",
       "      <td>0.0</td>\n",
       "      <td>0.0</td>\n",
       "      <td>1.017946</td>\n",
       "      <td>7.762827</td>\n",
       "      <td>0.0</td>\n",
       "      <td>0.0</td>\n",
       "      <td>0.0</td>\n",
       "      <td>0.0</td>\n",
       "      <td>64.827024</td>\n",
       "      <td>0.000000</td>\n",
       "      <td>31.827567</td>\n",
       "      <td>0.0</td>\n",
       "      <td>0.0</td>\n",
       "      <td>0.0</td>\n",
       "    </tr>\n",
       "    <tr>\n",
       "      <th>8</th>\n",
       "      <td>81.367315</td>\n",
       "      <td>19.249702</td>\n",
       "      <td>0.000000</td>\n",
       "      <td>0.0</td>\n",
       "      <td>0.0</td>\n",
       "      <td>0.0</td>\n",
       "      <td>0.0</td>\n",
       "      <td>0.000000</td>\n",
       "      <td>15.275028</td>\n",
       "      <td>0.0</td>\n",
       "      <td>0.0</td>\n",
       "      <td>0.0</td>\n",
       "      <td>0.0</td>\n",
       "      <td>58.853954</td>\n",
       "      <td>0.000000</td>\n",
       "      <td>31.232172</td>\n",
       "      <td>0.0</td>\n",
       "      <td>0.0</td>\n",
       "      <td>0.0</td>\n",
       "    </tr>\n",
       "    <tr>\n",
       "      <th>9</th>\n",
       "      <td>72.461159</td>\n",
       "      <td>19.195175</td>\n",
       "      <td>10.152879</td>\n",
       "      <td>0.0</td>\n",
       "      <td>0.0</td>\n",
       "      <td>0.0</td>\n",
       "      <td>0.0</td>\n",
       "      <td>0.000000</td>\n",
       "      <td>4.337864</td>\n",
       "      <td>0.0</td>\n",
       "      <td>0.0</td>\n",
       "      <td>0.0</td>\n",
       "      <td>0.0</td>\n",
       "      <td>70.431569</td>\n",
       "      <td>0.000000</td>\n",
       "      <td>29.360426</td>\n",
       "      <td>0.0</td>\n",
       "      <td>0.0</td>\n",
       "      <td>0.0</td>\n",
       "    </tr>\n",
       "  </tbody>\n",
       "</table>\n",
       "</div>"
      ],
      "text/plain": [
       "          A1         A2         A3   A4   A5   A6   A7        A8         G1  \\\n",
       "0  72.277571  35.271327   0.000000  0.0  0.0  0.0  0.0  0.000000  14.031559   \n",
       "1  84.424003  17.478804   0.000000  0.0  0.0  0.0  0.0  0.000000   7.377609   \n",
       "2  89.482945  14.413384   0.000000  0.0  0.0  0.0  0.0  0.000000   0.000000   \n",
       "3  93.974460  14.839781   0.000000  0.0  0.0  0.0  0.0  0.000000  10.479708   \n",
       "4  87.645907  19.677329   0.000000  0.0  0.0  0.0  0.0  0.000000   5.794638   \n",
       "5  84.477749  20.801346   0.000000  0.0  0.0  0.0  0.0  0.000000   0.000000   \n",
       "6  84.380992  15.365613   5.084576  0.0  0.0  0.0  0.0  0.000000  12.597871   \n",
       "7  80.538621  19.595774   0.000000  0.0  0.0  0.0  0.0  1.017946   7.762827   \n",
       "8  81.367315  19.249702   0.000000  0.0  0.0  0.0  0.0  0.000000  15.275028   \n",
       "9  72.461159  19.195175  10.152879  0.0  0.0  0.0  0.0  0.000000   4.337864   \n",
       "\n",
       "    G2   G3   G4   G5         G6        G7         G8   G9   C1   C2  \n",
       "0  0.0  0.0  0.0  0.0  57.338503  0.000000  31.237618  0.0  0.0  0.0  \n",
       "1  0.0  0.0  0.0  0.0  66.474324  0.000000  29.258126  0.0  0.0  0.0  \n",
       "2  0.0  0.0  0.0  0.0  64.146086  0.000000  36.118615  0.0  0.0  0.0  \n",
       "3  0.0  0.0  0.0  0.0  60.483125  0.000000  32.381759  0.0  0.0  0.0  \n",
       "4  0.0  0.0  0.0  0.0  69.415449  0.000000  30.179220  0.0  0.0  0.0  \n",
       "5  0.0  0.0  0.0  0.0  68.747460  7.003206  27.341743  0.0  0.0  0.0  \n",
       "6  0.0  0.0  0.0  0.0  63.432145  0.000000  29.833727  0.0  0.0  0.0  \n",
       "7  0.0  0.0  0.0  0.0  64.827024  0.000000  31.827567  0.0  0.0  0.0  \n",
       "8  0.0  0.0  0.0  0.0  58.853954  0.000000  31.232172  0.0  0.0  0.0  \n",
       "9  0.0  0.0  0.0  0.0  70.431569  0.000000  29.360426  0.0  0.0  0.0  "
      ]
     },
     "execution_count": 18,
     "metadata": {},
     "output_type": "execute_result"
    }
   ],
   "source": [
    "import random\n",
    "random.seed(999)\n",
    "\n",
    "for i,row in samples.iterrows():\n",
    "    over_value = row[].sum() - 100\n",
    "    row_booleans = list(row[acid_list] > 0)\n",
    "    random_num = random.choice([i for i, x in enumerate(row_booleans) if x == True])\n",
    "    row[acid_list].iloc[random_num] = row[acid_list][random_num] - over_value\n",
    "    \n",
    "    over_value = row[].sum() - 100\n",
    "    row_booleans = list(row[glycol_list] > 0)\n",
    "    random_num = random.choice([i for i, x in enumerate(row_booleans) if x == True])\n",
    "    row[glycol_list].iloc[random_num] = row[glycol_list][random_num] - over_value\n",
    "    \n",
    "    samples.iloc[i] = row\n",
    "samples.to_csv(samples_file_name)\n",
    "samples.head(10)"
   ]
  },
  {
   "cell_type": "markdown",
   "metadata": {},
   "source": [
    "#### モデル推論の実行"
   ]
  },
  {
   "cell_type": "code",
   "execution_count": 19,
   "metadata": {},
   "outputs": [
    {
     "data": {
      "application/vnd.jupyter.widget-view+json": {
       "model_id": "6214be26f0e545109712223aa0c3666c",
       "version_major": 2,
       "version_minor": 0
      },
      "text/plain": [
       "  0%|          | 0/3 [00:00<?, ?it/s]"
      ]
     },
     "metadata": {},
     "output_type": "display_data"
    }
   ],
   "source": [
    "ifr = sampling.Inference(experiment_ID, user_name, bucket_name)\n",
    "samples_inference = ifr.multi_model_inference(samples, objectives, model_list, chem)"
   ]
  },
  {
   "cell_type": "markdown",
   "metadata": {},
   "source": [
    "#### モデル推論結果の出力（★要変更）"
   ]
  },
  {
   "cell_type": "code",
   "execution_count": 20,
   "metadata": {},
   "outputs": [],
   "source": [
    "# 予測結果の出力ファイル名\n",
    "inference_file_name = 'samples_inference.xlsx'\n",
    "samples_inference.to_excel(inference_file_name)"
   ]
  },
  {
   "cell_type": "markdown",
   "metadata": {},
   "source": [
    "# <font color=\"white\"> 4. 作成物一括削除<font>"
   ]
  },
  {
   "cell_type": "markdown",
   "metadata": {},
   "source": [
    "## パラメーター設定（★要変更）"
   ]
  },
  {
   "cell_type": "code",
   "execution_count": 6,
   "metadata": {},
   "outputs": [],
   "source": [
    "# 途中実行する場合、モデル評価での出力データをコピーし実行\n",
    "#=========【途中再起動した場合、別セルに貼り付け、実行】以下の情報は、次セクションでも利用します。=========\n",
    "department_name = \"deloitte\"\n",
    "user_name = \"ryota_matsubara\"\n",
    "experiment_ID = \"005\"\n",
    "model_list = [\"ml-ryota-matsubara-0-005\", \"ml-ryota-matsubara-1-005\"]"
   ]
  },
  {
   "cell_type": "markdown",
   "metadata": {},
   "source": [
    "## 処理実行"
   ]
  },
  {
   "cell_type": "code",
   "execution_count": 7,
   "metadata": {},
   "outputs": [],
   "source": [
    "prep.delete_resources(department_name, user_name, experiment_ID, model_list)"
   ]
  },
  {
   "cell_type": "code",
   "execution_count": null,
   "metadata": {},
   "outputs": [],
   "source": []
  }
 ],
 "metadata": {
  "instance_type": "ml.g4dn.xlarge",
  "kernelspec": {
   "display_name": "Python 3 (Data Science)",
   "language": "python",
   "name": "python3__SAGEMAKER_INTERNAL__arn:aws:sagemaker:ap-southeast-2:452832661640:image/datascience-1.0"
  },
  "language_info": {
   "codemirror_mode": {
    "name": "ipython",
    "version": 3
   },
   "file_extension": ".py",
   "mimetype": "text/x-python",
   "name": "python",
   "nbconvert_exporter": "python",
   "pygments_lexer": "ipython3",
   "version": "3.7.10"
  }
 },
 "nbformat": 4,
 "nbformat_minor": 4
}
