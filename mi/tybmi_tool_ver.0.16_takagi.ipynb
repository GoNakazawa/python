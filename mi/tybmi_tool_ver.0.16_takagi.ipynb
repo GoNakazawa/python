{
 "cells": [
  {
   "cell_type": "markdown",
   "metadata": {},
   "source": [
    "# <font color=\"white\"> 解析OJT用ツール(Jupyter Notebook)<font>"
   ]
  },
  {
   "cell_type": "code",
   "execution_count": 1,
   "metadata": {},
   "outputs": [],
   "source": [
    "%%capture installer_log\n",
    "!pip install xgboost\n",
    "!apt-get update && apt-get install -y build-essential\n",
    "!python -m pip install shap\n",
    "!pip install pymc3\n",
    "!pip install tqdm\n",
    "!pip --no-cache-dir install ctgan\n",
    "!pip install pandas-profiling\n",
    "!pip install msoffcrypto-tool\n",
    "!pip install japanize-matplotlib"
   ]
  },
  {
   "cell_type": "code",
   "execution_count": 2,
   "metadata": {},
   "outputs": [],
   "source": [
    "import sagemaker\n",
    "from tybmilib import prep\n",
    "from tybmilib import vis\n",
    "from tybmilib import datamgmt\n",
    "from tybmilib import modeling\n",
    "from tybmilib import paramsearch\n",
    "from tybmilib.logmgmt import create_logger, stop_watch"
   ]
  },
  {
   "cell_type": "markdown",
   "metadata": {},
   "source": [
    "\n",
    "## 初期パラメーター設定（★要変更）"
   ]
  },
  {
   "cell_type": "markdown",
   "metadata": {},
   "source": [
    "---"
   ]
  },
  {
   "cell_type": "code",
   "execution_count": 3,
   "metadata": {},
   "outputs": [],
   "source": [
    "# S3に格納された分析対象データのURL\n",
    "s3uri_original_data = ['s3://mi-nu/210806更新_NU3高木_HC密着性rev.6_粒子_HCall,ink,AB,haze.xlsx']\n",
    "\n",
    "# アウトプット格納バケット\n",
    "# S3上に個人用ディレクトリを作成するため、お名前とテーマを変更して下さい。\n",
    "experiment_ID = '0006'\n",
    "create_logger(experiment_ID)\n",
    "s3_bucket_path = 'sagemaker/takagi/HC'\n",
    "role = sagemaker.get_execution_role()"
   ]
  },
  {
   "cell_type": "markdown",
   "metadata": {},
   "source": [
    "# <font color=\"white\"> 1. データ投入・確認<font>"
   ]
  },
  {
   "cell_type": "markdown",
   "metadata": {},
   "source": [
    "#### <font color=\"white\"> データ読み込み<font>"
   ]
  },
  {
   "cell_type": "code",
   "execution_count": 4,
   "metadata": {},
   "outputs": [
    {
     "name": "stdin",
     "output_type": "stream",
     "text": [
      "Please enter file password. ········\n"
     ]
    },
    {
     "name": "stdout",
     "output_type": "stream",
     "text": [
      "読み込みデータのカラム名：Name,nB,pH,nsp,AV,Tg,Mn,Mw,Acid_NDC,Acid_TPA,Acid_IPA,Acid_SA,Acid_AA,Acid_GCM,Gly_EG,Gly_HD,Gly_BD,Gly_DEG,Gly_NPG,Gly_PG,Gly_MPD,Gly_DMH,ink,HC,HC_48h,HC_240h,HC_boil,AB_standard,AB_press,AB_water,HAZE,TT\n"
     ]
    }
   ],
   "source": [
    "# データ読み込み\n",
    "# 実験データのExcelファイルにパスワードが設定されている場合、データ読み込み時に入力が必要となります。\n",
    "df_s3 = prep.read_s3_bucket_data(s3uri_original_data)"
   ]
  },
  {
   "cell_type": "markdown",
   "metadata": {},
   "source": [
    "## パラメーター設定（★要変更）"
   ]
  },
  {
   "cell_type": "code",
   "execution_count": 5,
   "metadata": {},
   "outputs": [],
   "source": [
    "# 本ステップで必要な設定項目\n",
    "# 入力データに含まれる不要カラムの指定\n",
    "drop_cols = ['Name','nB','pH','AV','Tg','Mn','Mw','HC_240h','HC_boil','AB_press','AB_water','TT']\n",
    "# 目的変数\n",
    "objectives = ['ink','HC','HC_48h','AB_standard','HAZE']\n",
    "\n",
    "# データ可視化方法\n",
    "# profiles = pandas-profiles / pairplot = N×N散布図行列 / pairplot_1by1 = 1×N散布図行列 / correlation_matrix = 相関変数行列\n",
    "show_plot_method=['correlation_matrix']"
   ]
  },
  {
   "cell_type": "markdown",
   "metadata": {},
   "source": [
    "## 処理実行"
   ]
  },
  {
   "cell_type": "markdown",
   "metadata": {},
   "source": [
    "#### <font color=\"white\"> 不要列削除 & 可視化<font>"
   ]
  },
  {
   "cell_type": "code",
   "execution_count": 6,
   "metadata": {},
   "outputs": [
    {
     "data": {
      "application/vnd.jupyter.widget-view+json": {
       "model_id": "feeb665f10c6400db4ffa8a02b838c4e",
       "version_major": 2,
       "version_minor": 0
      },
      "text/plain": [
       "  0%|          | 0/2 [00:00<?, ?it/s]"
      ]
     },
     "metadata": {},
     "output_type": "display_data"
    },
    {
     "name": "stdout",
     "output_type": "stream",
     "text": [
      "=========outputフォルダへの格納データ=========\n",
      "['/root/output/correlation_matrix_all.png', '/root/output/correlation_matrix_only_objectives.png']\n"
     ]
    }
   ],
   "source": [
    "# 不要列の削除\n",
    "# 実験データ内で不要カラムがある場合には、colsのリスト内にカラム名を追加し削除して下さい。\n",
    "df_reg = prep.drop_cols(df_s3,drop_cols)\n",
    "\n",
    "# データ可視化\n",
    "vis.show_plot(df_reg,objectives,show_plot_method)"
   ]
  },
  {
   "cell_type": "markdown",
   "metadata": {},
   "source": [
    "#### <font color=\"white\"> 学習データ作成<font>"
   ]
  },
  {
   "cell_type": "code",
   "execution_count": 7,
   "metadata": {},
   "outputs": [
    {
     "name": "stdout",
     "output_type": "stream",
     "text": [
      "=========dataフォルダへの格納データ=========\n",
      "目的変数：ink\n",
      "学習データ：train_ink.csv\n",
      "目的変数：HC\n",
      "学習データ：train_HC.csv\n",
      "目的変数：HC_48h\n",
      "学習データ：train_HC_48h.csv\n",
      "目的変数：AB_standard\n",
      "学習データ：train_AB_standard.csv\n",
      "目的変数：HAZE\n",
      "学習データ：train_HAZE.csv\n",
      "説明変数のみデータ：train(only_x).csv\n",
      "目的変数のみデータ：train(only_y).csv\n",
      "=========s3指定バケットへの格納データ=========\n",
      "s3://sagemaker-ap-southeast-1-375869297825/sagemaker/takagi/HC/train_ink.csv\n",
      "s3://sagemaker-ap-southeast-1-375869297825/sagemaker/takagi/HC/train_HC.csv\n",
      "s3://sagemaker-ap-southeast-1-375869297825/sagemaker/takagi/HC/train_HC_48h.csv\n",
      "s3://sagemaker-ap-southeast-1-375869297825/sagemaker/takagi/HC/train_AB_standard.csv\n",
      "s3://sagemaker-ap-southeast-1-375869297825/sagemaker/takagi/HC/train_HAZE.csv\n",
      "------------------------------\n",
      "#=========【途中再起動した場合、別セルに貼り付け、実行】以下の情報は、次セクションでも利用します。=========\n",
      "objectives = ['ink', 'HC', 'HC_48h', 'AB_standard', 'HAZE']\n",
      "s3_uri_list = ['s3://sagemaker-ap-southeast-1-375869297825/sagemaker/takagi/HC/train_ink.csv', 's3://sagemaker-ap-southeast-1-375869297825/sagemaker/takagi/HC/train_HC.csv', 's3://sagemaker-ap-southeast-1-375869297825/sagemaker/takagi/HC/train_HC_48h.csv', 's3://sagemaker-ap-southeast-1-375869297825/sagemaker/takagi/HC/train_AB_standard.csv', 's3://sagemaker-ap-southeast-1-375869297825/sagemaker/takagi/HC/train_HAZE.csv']\n",
      "traindata_path_list = ['/root/data/train_ink.csv', '/root/data/train_HC.csv', '/root/data/train_HC_48h.csv', '/root/data/train_AB_standard.csv', '/root/data/train_HAZE.csv']\n",
      "s3_bucket_path = 'sagemaker/takagi/HC'\n",
      "role = 'arn:aws:iam::375869297825:role/service-role/AmazonSageMaker-ExecutionRole-20210125T104870'\n",
      "experiment_ID = '0006'\n"
     ]
    }
   ],
   "source": [
    "# 学習データの作成\n",
    "# 目的変数分の学習データを作成し、S3のSageMaker用ディレクトリに格納\n",
    "traindata_path_list = prep.create_multi_traindata(df_reg,objectives=objectives)\n",
    "s3_uri_list = datamgmt.S3Dao().upload_data(traindata_path_list,s3_bucket_path=s3_bucket_path)\n",
    "\n",
    "# 次のステップで使用する情報を提示\n",
    "prep.present_info(s3_bucket_path,role,objectives,s3_uri_list,traindata_path_list,experiment_ID)"
   ]
  },
  {
   "cell_type": "markdown",
   "metadata": {},
   "source": [
    "---"
   ]
  },
  {
   "cell_type": "markdown",
   "metadata": {},
   "source": [
    "# <font color=\"white\"> 2. モデル構築・評価<font>"
   ]
  },
  {
   "cell_type": "markdown",
   "metadata": {},
   "source": [
    "## パラメーター設定（★要変更）"
   ]
  },
  {
   "cell_type": "code",
   "execution_count": 8,
   "metadata": {},
   "outputs": [],
   "source": [
    "# 本ステップで必要な設定項目\n",
    "# 機械学習モデルの指定\n",
    "#'Regression|BinaryClassification|MulticlassClassification'\n",
    "#problemtype = ''\n",
    "\n",
    "# モデル評価指標の設定\n",
    "# Regressionの場合:'MSE' / BinaryClassificationの場合:'F1' / MulticlassClassificationの場合:'F1macro'を指定\n",
    "#metrics = '' "
   ]
  },
  {
   "cell_type": "markdown",
   "metadata": {},
   "source": [
    "## 処理実行"
   ]
  },
  {
   "cell_type": "markdown",
   "metadata": {},
   "source": [
    "#### <font color=\"white\"> モデル学習<font>"
   ]
  },
  {
   "cell_type": "code",
   "execution_count": 9,
   "metadata": {},
   "outputs": [],
   "source": [
    "#%%capture model_log\n",
    "#%%time\n",
    "#mlmodel = modeling.SagemakerCtrl(s3_bucket_path,role,experiment_ID,problemtype=problemtype,metrics=metrics)\n",
    "#model_list,ep_list = mlmodel.fit_multi_model(objectives,s3_uri_list)"
   ]
  },
  {
   "cell_type": "code",
   "execution_count": 10,
   "metadata": {},
   "outputs": [],
   "source": [
    "#model_log.show()"
   ]
  },
  {
   "cell_type": "markdown",
   "metadata": {},
   "source": [
    "#### <font color=\"white\"> モデル評価<font>"
   ]
  },
  {
   "cell_type": "code",
   "execution_count": 11,
   "metadata": {},
   "outputs": [],
   "source": [
    "# Shap値出力\n",
    "#mlmodel.analyze_multi_model(objectives,s3_uri_list,traindata_path_list,model_list)\n",
    "# 線形モデルでの係数\n",
    "#mlmodel.estimate_multi_coefficients(objectives,traindata_path_list)\n",
    "# テストデータでの評価値\n",
    "#mlmodel.estimate_multi_testdata(objectives,ep_list,traindata_path_list)\n",
    "\n",
    "# 次のステップで使用する情報を提示\n",
    "#mlmodel.present_info(objectives,ep_list,model_list,s3_bucket_path)"
   ]
  },
  {
   "cell_type": "markdown",
   "metadata": {},
   "source": [
    "---"
   ]
  },
  {
   "cell_type": "markdown",
   "metadata": {},
   "source": [
    "# <font color=\"white\"> 3. パラメーター探索<font>"
   ]
  },
  {
   "cell_type": "markdown",
   "metadata": {},
   "source": [
    "## パラメーター設定（★要変更）"
   ]
  },
  {
   "cell_type": "markdown",
   "metadata": {},
   "source": [
    "#### <font color=\"white\"> 途中実行する場合での引継ぎ情報<font>"
   ]
  },
  {
   "cell_type": "code",
   "execution_count": 12,
   "metadata": {},
   "outputs": [],
   "source": [
    "#=========【途中再起動した場合、別セルに貼り付け、実行】以下の情報は、次セクションでも利用します。=========\n",
    "objectives = ['HC_48h','AB_standard']\n",
    "ep_list = [\"ep-takagi-2-0006\",\"ep-takagi-3-0006\"]\n",
    "model_list = [\"ml-takagi-2-0006\",\"ml-takagi-3-0006\"]\n",
    "s3_bucket_path = 'sagemaker/takagi/HC'\n",
    "problemtype = 'Regression'"
   ]
  },
  {
   "cell_type": "markdown",
   "metadata": {},
   "source": [
    "#### <font color=\"white\"> 制約条件設定<font>"
   ]
  },
  {
   "cell_type": "code",
   "execution_count": 13,
   "metadata": {},
   "outputs": [],
   "source": [
    "# 制約設定\n",
    "# 変数を固定　GCM量は７で固定\n",
    "fixed = [{'target':'Acid_GCM','value':7}]\n",
    "# e.g. fixed = [{'target':'G2','value':30},{'target':'A3','value':30},{'target':'A4','value':30},{'target':'A6','value':120}]\n",
    "\n",
    "# 変数の値範囲を指定 還元粘度は０～１\n",
    "limit = [{'target':'nsp','range':(lambda x : 1>x>0)}]\n",
    "# e.g. limit = [{'target':'G3','range':(lambda x : 50>x)},{'target':'G2','range':(lambda x : 10>x>7)},{'target':'A3','range':(lambda x : 20>x)}]\n",
    "\n",
    "# 変数間の合計値を設定\n",
    "total = [{'target':['Acid_NDC','Acid_TPA','Acid_IPA','Acid_SA','Acid_AA','Acid_GCM'],'total':100},{'target':['Gly_EG','Gly_HD','Gly_BD','Gly_DEG','Gly_NPG','Gly_PG','Gly_MPD','Gly_DMH'],'total':100}]\n",
    "# e.g. total = [{'target':['A1','A2','A3','A4','A5','A6'],'total':100},{'target':['G1','G2','G3','G4','G5','G6'],'total':100}]\n",
    "\n",
    "# 組成候補の選択方法を設定 Acidは１～３種類（GCMは必須）、Glyも１～３種類\n",
    "combination = [{'target':['Acid_NDC','Acid_TPA','Acid_IPA','Acid_SA','Acid_AA','Acid_GCM'],'range':(lambda x : 0<x<4)},{'target':['Gly_EG','Gly_HD','Gly_BD','Gly_DEG','Gly_NPG','Gly_PG','Gly_MPD','Gly_DMH'],'range':(lambda x : 0<x<4)}]\n",
    "# e.g. combination = [{'target':['A1','A2','A3','A4','A5','A6'],'range':(lambda x : x==3)},{'target':['G1','G2','G3','G4','G5','G6'],'range':(lambda x : 1<x<4)}]\n",
    "\n",
    "# 組成時の材料比を設定\n",
    "ratio = []\n",
    "# e.g. ratio = [{'target':['A7','G3'],'ratio':(lambda x : x*1.5)},{'target':['G2','A4'],'ratio':(lambda x : x*2)}]"
   ]
  },
  {
   "cell_type": "markdown",
   "metadata": {},
   "source": [
    "#### <font color=\"white\"> 探索条件設定<font>"
   ]
  },
  {
   "cell_type": "code",
   "execution_count": 14,
   "metadata": {},
   "outputs": [],
   "source": [
    "# 探索手法を設定\n",
    "search_method = ['Simulate','Search_Cluster','Search_Pareto']\n",
    "\n",
    "# 目的変数の目標値を設定\n",
    "objectives_target = [{'target':'HC_48h','range':(lambda x : x>=4.5)},{'target':'AB_standard','range':(lambda x : x>=4)}]\n",
    "# e.g. objectives_target = [{'target':'Tg','range':(lambda x : 7>x>3)},{'target':'Tm','range':(lambda x : 130>x>0)}]"
   ]
  },
  {
   "cell_type": "markdown",
   "metadata": {},
   "source": [
    "## 処理実行"
   ]
  },
  {
   "cell_type": "markdown",
   "metadata": {},
   "source": [
    "#### <font color=\"white\"> 実験サンプル生成<font>"
   ]
  },
  {
   "cell_type": "code",
   "execution_count": null,
   "metadata": {},
   "outputs": [
    {
     "name": "stdout",
     "output_type": "stream",
     "text": [
      "{'combination': [{'range': <function <lambda> at 0x7fe4c05fb170>, 'target': ['Acid_NDC', 'Acid_TPA', 'Acid_IPA', 'Acid_SA', 'Acid_AA', 'Acid_GCM']}, {'range': <function <lambda> at 0x7fe4c05fb200>, 'target': ['Gly_EG', 'Gly_HD', 'Gly_BD', 'Gly_DEG', 'Gly_NPG', 'Gly_PG', 'Gly_MPD', 'Gly_DMH']}],\n",
      " 'fixed': [{'target': 'Acid_GCM', 'value': 7}],\n",
      " 'limit': [{'range': <function <lambda> at 0x7fe4c0e1f680>, 'target': 'nsp'}],\n",
      " 'total': [{'target': ['Acid_NDC', 'Acid_TPA', 'Acid_IPA', 'Acid_SA', 'Acid_AA', 'Acid_GCM'], 'total': 100}, {'target': ['Gly_EG', 'Gly_HD', 'Gly_BD', 'Gly_DEG', 'Gly_NPG', 'Gly_PG', 'Gly_MPD', 'Gly_DMH'], 'total': 100}]}\n"
     ]
    },
    {
     "data": {
      "application/vnd.jupyter.widget-view+json": {
       "model_id": "a3fc5373d83e4f7b85be83ffd4b1dc60",
       "version_major": 2,
       "version_minor": 0
      },
      "text/plain": [
       "  0%|          | 0/4.0 [00:00<?, ?it/s]"
      ]
     },
     "metadata": {},
     "output_type": "display_data"
    },
    {
     "data": {
      "application/vnd.jupyter.widget-view+json": {
       "model_id": "62aa0c437d94494e9557a8dac8cad669",
       "version_major": 2,
       "version_minor": 0
      },
      "text/plain": [
       "  0%|          | 0/100000 [00:00<?, ?it/s]"
      ]
     },
     "metadata": {},
     "output_type": "display_data"
    },
    {
     "data": {
      "application/vnd.jupyter.widget-view+json": {
       "model_id": "26f6c6de64dd40a18a9cfe521d34a365",
       "version_major": 2,
       "version_minor": 0
      },
      "text/plain": [
       "  0%|          | 0/100000 [00:00<?, ?it/s]"
      ]
     },
     "metadata": {},
     "output_type": "display_data"
    }
   ],
   "source": [
    "# 制約条件の設定\n",
    "sb = paramsearch.Search_Boundary(problemtype)\n",
    "boundary_setting = sb.set_boundary(fixed=fixed,limit=limit,combination=combination,total=total,ratio=ratio)\n",
    "# 設定条件の表示\n",
    "sb.describe(boundary_setting)\n",
    "\n",
    "# 設定条件に基づくサンプル生成\n",
    "samples = sb.create_samples(boundary_setting,objectives,ep_list)"
   ]
  },
  {
   "cell_type": "markdown",
   "metadata": {},
   "source": [
    "# <font color=\"white\"> 探索<font>"
   ]
  },
  {
   "cell_type": "code",
   "execution_count": null,
   "metadata": {},
   "outputs": [],
   "source": []
  },
  {
   "cell_type": "code",
   "execution_count": null,
   "metadata": {},
   "outputs": [
    {
     "name": "stdout",
     "output_type": "stream",
     "text": [
      "=========outputフォルダへの格納データ=========\n",
      "=====【simulate】探索結果:条件を満たす実験サンプル：samples_Simulate.csv=====\n",
      "=========outputフォルダへの格納データ=========\n",
      "=====【Search_Cluster】探索結果:条件を満たす実験サンプル：samples_Search_Cluster.csv=====\n",
      "クラスタリング結果(クラスター毎の平均値)：Clustering_by_Kmeans.csv\n",
      "各特徴量を2次元に次元圧縮した場合でのクラスタリング状況の描画：Clustering_by_Kmeans.png\n",
      "=========outputフォルダへの格納データ=========\n",
      "パレート解となるサンプル群：pareto_optimal_samples.csv\n",
      "パレート解の描画(使用2変数ごとに2次元で描画)：pareto_optimal_samples_使用変数.png\n"
     ]
    }
   ],
   "source": [
    "ps = paramsearch.Search(ep_list,objectives,problemtype)\n",
    "ps.search_samples(samples,objectives_target,search_method)"
   ]
  },
  {
   "cell_type": "markdown",
   "metadata": {},
   "source": [
    "# <font color=\"white\"> 4. 作成物一括削除<font>"
   ]
  },
  {
   "cell_type": "markdown",
   "metadata": {},
   "source": [
    "## パラメーター設定（★要変更）"
   ]
  },
  {
   "cell_type": "code",
   "execution_count": null,
   "metadata": {},
   "outputs": [],
   "source": [
    "# 途中実行する場合、モデル評価での出力データをコピーし実行\n",
    "ep_list = ['']\n",
    "model_list = ['']\n",
    "s3_bucket_path = ''"
   ]
  },
  {
   "cell_type": "markdown",
   "metadata": {},
   "source": [
    "## 処理実行"
   ]
  },
  {
   "cell_type": "code",
   "execution_count": null,
   "metadata": {},
   "outputs": [
    {
     "ename": "ParamValidationError",
     "evalue": "Parameter validation failed:\nInvalid length for parameter Key, value: 0, valid min length: 1",
     "output_type": "error",
     "traceback": [
      "\u001b[0;31m---------------------------------------------------------------------------\u001b[0m",
      "\u001b[0;31mParamValidationError\u001b[0m                      Traceback (most recent call last)",
      "\u001b[0;32m<ipython-input-18-9c0e715cdfb4>\u001b[0m in \u001b[0;36m<module>\u001b[0;34m\u001b[0m\n\u001b[0;32m----> 1\u001b[0;31m \u001b[0mprep\u001b[0m\u001b[0;34m.\u001b[0m\u001b[0mdelete_resources\u001b[0m\u001b[0;34m(\u001b[0m\u001b[0ms3_bucket_path\u001b[0m\u001b[0;34m,\u001b[0m\u001b[0mmodel_list\u001b[0m\u001b[0;34m,\u001b[0m\u001b[0mep_list\u001b[0m\u001b[0;34m)\u001b[0m\u001b[0;34m\u001b[0m\u001b[0;34m\u001b[0m\u001b[0m\n\u001b[0m",
      "\u001b[0;32m~/tybmilib/prep.py\u001b[0m in \u001b[0;36mdelete_resources\u001b[0;34m(s3_bucket_path, model_list, ep_list)\u001b[0m\n\u001b[1;32m    317\u001b[0m \u001b[0;34m\u001b[0m\u001b[0m\n\u001b[1;32m    318\u001b[0m     \u001b[0;31m# S3データ削除\u001b[0m\u001b[0;34m\u001b[0m\u001b[0;34m\u001b[0m\u001b[0;34m\u001b[0m\u001b[0m\n\u001b[0;32m--> 319\u001b[0;31m     \u001b[0mclient\u001b[0m\u001b[0;34m.\u001b[0m\u001b[0mdelete_object\u001b[0m\u001b[0;34m(\u001b[0m\u001b[0mBucket\u001b[0m\u001b[0;34m=\u001b[0m\u001b[0mbucket\u001b[0m\u001b[0;34m,\u001b[0m \u001b[0mKey\u001b[0m\u001b[0;34m=\u001b[0m\u001b[0ms3_bucket_path\u001b[0m\u001b[0;34m)\u001b[0m\u001b[0;34m\u001b[0m\u001b[0;34m\u001b[0m\u001b[0m\n\u001b[0m\u001b[1;32m    320\u001b[0m \u001b[0;34m\u001b[0m\u001b[0m\n\u001b[1;32m    321\u001b[0m     \u001b[0;31m# modelの削除\u001b[0m\u001b[0;34m\u001b[0m\u001b[0;34m\u001b[0m\u001b[0;34m\u001b[0m\u001b[0m\n",
      "\u001b[0;32m/opt/conda/lib/python3.7/site-packages/botocore/client.py\u001b[0m in \u001b[0;36m_api_call\u001b[0;34m(self, *args, **kwargs)\u001b[0m\n\u001b[1;32m    384\u001b[0m                     \"%s() only accepts keyword arguments.\" % py_operation_name)\n\u001b[1;32m    385\u001b[0m             \u001b[0;31m# The \"self\" in this scope is referring to the BaseClient.\u001b[0m\u001b[0;34m\u001b[0m\u001b[0;34m\u001b[0m\u001b[0;34m\u001b[0m\u001b[0m\n\u001b[0;32m--> 386\u001b[0;31m             \u001b[0;32mreturn\u001b[0m \u001b[0mself\u001b[0m\u001b[0;34m.\u001b[0m\u001b[0m_make_api_call\u001b[0m\u001b[0;34m(\u001b[0m\u001b[0moperation_name\u001b[0m\u001b[0;34m,\u001b[0m \u001b[0mkwargs\u001b[0m\u001b[0;34m)\u001b[0m\u001b[0;34m\u001b[0m\u001b[0;34m\u001b[0m\u001b[0m\n\u001b[0m\u001b[1;32m    387\u001b[0m \u001b[0;34m\u001b[0m\u001b[0m\n\u001b[1;32m    388\u001b[0m         \u001b[0m_api_call\u001b[0m\u001b[0;34m.\u001b[0m\u001b[0m__name__\u001b[0m \u001b[0;34m=\u001b[0m \u001b[0mstr\u001b[0m\u001b[0;34m(\u001b[0m\u001b[0mpy_operation_name\u001b[0m\u001b[0;34m)\u001b[0m\u001b[0;34m\u001b[0m\u001b[0;34m\u001b[0m\u001b[0m\n",
      "\u001b[0;32m/opt/conda/lib/python3.7/site-packages/botocore/client.py\u001b[0m in \u001b[0;36m_make_api_call\u001b[0;34m(self, operation_name, api_params)\u001b[0m\n\u001b[1;32m    676\u001b[0m         }\n\u001b[1;32m    677\u001b[0m         request_dict = self._convert_to_request_dict(\n\u001b[0;32m--> 678\u001b[0;31m             api_params, operation_model, context=request_context)\n\u001b[0m\u001b[1;32m    679\u001b[0m \u001b[0;34m\u001b[0m\u001b[0m\n\u001b[1;32m    680\u001b[0m         \u001b[0mservice_id\u001b[0m \u001b[0;34m=\u001b[0m \u001b[0mself\u001b[0m\u001b[0;34m.\u001b[0m\u001b[0m_service_model\u001b[0m\u001b[0;34m.\u001b[0m\u001b[0mservice_id\u001b[0m\u001b[0;34m.\u001b[0m\u001b[0mhyphenize\u001b[0m\u001b[0;34m(\u001b[0m\u001b[0;34m)\u001b[0m\u001b[0;34m\u001b[0m\u001b[0;34m\u001b[0m\u001b[0m\n",
      "\u001b[0;32m/opt/conda/lib/python3.7/site-packages/botocore/client.py\u001b[0m in \u001b[0;36m_convert_to_request_dict\u001b[0;34m(self, api_params, operation_model, context)\u001b[0m\n\u001b[1;32m    724\u001b[0m             api_params, operation_model, context)\n\u001b[1;32m    725\u001b[0m         request_dict = self._serializer.serialize_to_request(\n\u001b[0;32m--> 726\u001b[0;31m             api_params, operation_model)\n\u001b[0m\u001b[1;32m    727\u001b[0m         \u001b[0;32mif\u001b[0m \u001b[0;32mnot\u001b[0m \u001b[0mself\u001b[0m\u001b[0;34m.\u001b[0m\u001b[0m_client_config\u001b[0m\u001b[0;34m.\u001b[0m\u001b[0minject_host_prefix\u001b[0m\u001b[0;34m:\u001b[0m\u001b[0;34m\u001b[0m\u001b[0;34m\u001b[0m\u001b[0m\n\u001b[1;32m    728\u001b[0m             \u001b[0mrequest_dict\u001b[0m\u001b[0;34m.\u001b[0m\u001b[0mpop\u001b[0m\u001b[0;34m(\u001b[0m\u001b[0;34m'host_prefix'\u001b[0m\u001b[0;34m,\u001b[0m \u001b[0;32mNone\u001b[0m\u001b[0;34m)\u001b[0m\u001b[0;34m\u001b[0m\u001b[0;34m\u001b[0m\u001b[0m\n",
      "\u001b[0;32m/opt/conda/lib/python3.7/site-packages/botocore/validate.py\u001b[0m in \u001b[0;36mserialize_to_request\u001b[0;34m(self, parameters, operation_model)\u001b[0m\n\u001b[1;32m    317\u001b[0m                                                     operation_model.input_shape)\n\u001b[1;32m    318\u001b[0m             \u001b[0;32mif\u001b[0m \u001b[0mreport\u001b[0m\u001b[0;34m.\u001b[0m\u001b[0mhas_errors\u001b[0m\u001b[0;34m(\u001b[0m\u001b[0;34m)\u001b[0m\u001b[0;34m:\u001b[0m\u001b[0;34m\u001b[0m\u001b[0;34m\u001b[0m\u001b[0m\n\u001b[0;32m--> 319\u001b[0;31m                 \u001b[0;32mraise\u001b[0m \u001b[0mParamValidationError\u001b[0m\u001b[0;34m(\u001b[0m\u001b[0mreport\u001b[0m\u001b[0;34m=\u001b[0m\u001b[0mreport\u001b[0m\u001b[0;34m.\u001b[0m\u001b[0mgenerate_report\u001b[0m\u001b[0;34m(\u001b[0m\u001b[0;34m)\u001b[0m\u001b[0;34m)\u001b[0m\u001b[0;34m\u001b[0m\u001b[0;34m\u001b[0m\u001b[0m\n\u001b[0m\u001b[1;32m    320\u001b[0m         return self._serializer.serialize_to_request(parameters,\n\u001b[1;32m    321\u001b[0m                                                      operation_model)\n",
      "\u001b[0;31mParamValidationError\u001b[0m: Parameter validation failed:\nInvalid length for parameter Key, value: 0, valid min length: 1"
     ]
    }
   ],
   "source": [
    "prep.delete_resources(s3_bucket_path,model_list,ep_list)"
   ]
  }
 ],
 "metadata": {
  "instance_type": "ml.t3.medium",
  "kernelspec": {
   "display_name": "Python 3 (Data Science)",
   "language": "python",
   "name": "python3__SAGEMAKER_INTERNAL__arn:aws:sagemaker:ap-southeast-1:492261229750:image/datascience-1.0"
  },
  "language_info": {
   "codemirror_mode": {
    "name": "ipython",
    "version": 3
   },
   "file_extension": ".py",
   "mimetype": "text/x-python",
   "name": "python",
   "nbconvert_exporter": "python",
   "pygments_lexer": "ipython3",
   "version": "3.7.10"
  }
 },
 "nbformat": 4,
 "nbformat_minor": 4
}
