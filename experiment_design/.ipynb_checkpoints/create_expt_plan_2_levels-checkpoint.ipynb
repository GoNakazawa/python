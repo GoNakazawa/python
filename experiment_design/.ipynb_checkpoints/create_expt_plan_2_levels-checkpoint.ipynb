{
 "cells": [
  {
   "cell_type": "markdown",
   "metadata": {},
   "source": [
    "# 2水準系直交表への自動割付け(+実験計画の作成)\n",
    "---\n",
    "● 今回のPython実装内容  \n",
    "- 2水準直交表への因子と交互作用の割付(わりつけ)を行います。  \n",
    "- 割付後の表を実験計画としてEXCEL出力します。\n",
    "\n",
    "今回、直交表はL4,L8,L16,L32から自動選択します。  \n",
    "（手持ちの表がL4～16までだったため、どなたかL32以上で成分記号も書かれている表をお持ちでしたらいただけないでしょうか。）"
   ]
  },
  {
   "cell_type": "markdown",
   "metadata": {},
   "source": [
    "### import"
   ]
  },
  {
   "cell_type": "code",
   "execution_count": null,
   "metadata": {},
   "outputs": [],
   "source": [
    "!pip install openpyxl"
   ]
  },
  {
   "cell_type": "code",
   "execution_count": 1,
   "metadata": {},
   "outputs": [
    {
     "ename": "ModuleNotFoundError",
     "evalue": "No module named 'openpyxl'",
     "output_type": "error",
     "traceback": [
      "\u001b[1;31m--------------------------------------------------------------------\u001b[0m",
      "\u001b[1;31mModuleNotFoundError\u001b[0m                Traceback (most recent call last)",
      "\u001b[1;32m~\\AppData\\Local\\Temp\\ipykernel_16020\\703403406.py\u001b[0m in \u001b[0;36m<module>\u001b[1;34m\u001b[0m\n\u001b[0;32m      8\u001b[0m \u001b[1;32mimport\u001b[0m \u001b[0mmath\u001b[0m\u001b[1;33m\u001b[0m\u001b[1;33m\u001b[0m\u001b[0m\n\u001b[0;32m      9\u001b[0m \u001b[1;32mimport\u001b[0m \u001b[0mitertools\u001b[0m  \u001b[1;31m# permutation(順列)の作成用\u001b[0m\u001b[1;33m\u001b[0m\u001b[1;33m\u001b[0m\u001b[0m\n\u001b[1;32m---> 10\u001b[1;33m \u001b[1;32mimport\u001b[0m \u001b[0mopenpyxl\u001b[0m   \u001b[1;31m# excel出力用\u001b[0m\u001b[1;33m\u001b[0m\u001b[1;33m\u001b[0m\u001b[0m\n\u001b[0m\u001b[0;32m     11\u001b[0m \u001b[0mprint\u001b[0m\u001b[1;33m(\u001b[0m\u001b[1;34m\"Python version : \"\u001b[0m\u001b[1;33m,\u001b[0m\u001b[0msys\u001b[0m\u001b[1;33m.\u001b[0m\u001b[0mversion\u001b[0m\u001b[1;33m)\u001b[0m\u001b[1;33m\u001b[0m\u001b[1;33m\u001b[0m\u001b[0m\n\u001b[0;32m     12\u001b[0m \u001b[0mprint\u001b[0m\u001b[1;33m(\u001b[0m\u001b[1;34m\"pandas version : \"\u001b[0m\u001b[1;33m,\u001b[0m\u001b[0mpd\u001b[0m\u001b[1;33m.\u001b[0m\u001b[0m__version__\u001b[0m\u001b[1;33m)\u001b[0m\u001b[1;33m\u001b[0m\u001b[1;33m\u001b[0m\u001b[0m\n",
      "\u001b[1;31mModuleNotFoundError\u001b[0m: No module named 'openpyxl'"
     ]
    }
   ],
   "source": [
    "'''\n",
    "ver.3 交互作用が0個の時の処理を追加\n",
    "'''\n",
    "\n",
    "# import\n",
    "import sys\n",
    "import pandas as pd\n",
    "import math\n",
    "import itertools  # permutation(順列)の作成用\n",
    "import openpyxl   # excel出力用\n",
    "print(\"Python version : \",sys.version)\n",
    "print(\"pandas version : \",pd.__version__)\n",
    "print(\"openpyxl version : \",openpyxl.__version__)"
   ]
  },
  {
   "cell_type": "markdown",
   "metadata": {},
   "source": [
    "### 初期設定"
   ]
  },
  {
   "cell_type": "code",
   "execution_count": 2,
   "metadata": {},
   "outputs": [],
   "source": [
    "\n",
    "# 因子の名前\n",
    "factor_symbols_all = [\"時間\", \"小麦\", \"カレー粉\"]    # [\"A\",\"B\",\"C\",\"D\",\"F\",\"G\",\"H\",\"I\",\"J\",\"K\",\"L\",\"M\",\"N\",\"O\",\"P\"]\n",
    "\n",
    "# 各因子の水準\n",
    "factors = [\n",
    "    [20,60],\n",
    "    [5,10],\n",
    "    [\"海軍\",\"BMT\"]\n",
    "]\n",
    "\n",
    "# 見たい交互作用を因子の番号(o～)で指定。\n",
    "interactions = [\n",
    "#     [0, 1],    # AxB\n",
    "#     [1, 2]     # BxC\n",
    "]\n",
    "\n",
    "# 最後に実験計画の順序をランダマイズするか設定\n",
    "use_randomize = True\n",
    "use_seed = True  # Falseの場合、毎回変化する\n",
    "seed_no = 0  # SEEDを指定(int?)"
   ]
  },
  {
   "cell_type": "markdown",
   "metadata": {},
   "source": [
    "### 結果表示用の文字列を作成"
   ]
  },
  {
   "cell_type": "code",
   "execution_count": 3,
   "metadata": {},
   "outputs": [
    {
     "name": "stdout",
     "output_type": "stream",
     "text": [
      "因子 ['時間', '小麦', 'カレー粉']\n",
      "交互作用 []\n"
     ]
    }
   ],
   "source": [
    "## 因子\n",
    "factor_symbols = [\"\"] * len(factors)\n",
    "for i,fct in enumerate(factors):\n",
    "    factor_symbols[i] = factor_symbols_all[i]\n",
    "print(\"因子\",factor_symbols)\n",
    "\n",
    "## 交互作用    \n",
    "interaction_symbols = [\"\"] * len(interactions)\n",
    "for i,itr in enumerate(interactions):\n",
    "    text = factor_symbols[itr[0]] + \"x\" + factor_symbols[itr[1]]\n",
    "    interaction_symbols[i] = text\n",
    "print(\"交互作用\",interaction_symbols)"
   ]
  },
  {
   "cell_type": "markdown",
   "metadata": {},
   "source": [
    "# 割付け\n",
    "---"
   ]
  },
  {
   "cell_type": "markdown",
   "metadata": {},
   "source": [
    "### 直交表サイズ推定\n",
    "今回は2水準の直交表への割付を行います。   \n",
    "因子と相互作用の数から、使用する直交表をL4,L8,L16から選択します。  \n",
    "また、後ほど使用する、因子の割付け優先順位のリストを準備します。\n",
    "\n",
    "※注意：\n",
    "　この順位にした理由は「成分記号による割付け法」で説明できるのですが、今回説明は割愛しています。  \n",
    "　このリストの作成理由は、このリストに沿って割り付けることで割付けの試行回数を減らすことと、    \n",
    "　人間（私個人）が割付けた場合に近い表を作るためです。ですので一部、表の因子並び順には個人差が出る場合もあります。  \n",
    "　※※あくまで表の見た目の問題なので、結果や解析には影響しません！"
   ]
  },
  {
   "cell_type": "code",
   "execution_count": 4,
   "metadata": {},
   "outputs": [
    {
     "name": "stdout",
     "output_type": "stream",
     "text": [
      "length=  3\n",
      "成分記号1桁の数は 2\n",
      "\n",
      "L4直交表に割付け処理を行います\n"
     ]
    }
   ],
   "source": [
    "# 例：L8で行けそうだぞと判定\n",
    "# factor(因子)は4つ,interaction(交互作用)は2つ,合計6なので、L8(2^7)で行けそう\n",
    "l4 = [\"*\"] * 3\n",
    "l8 = [\"*\"] * 7\n",
    "l16 = [\"*\"] * 15\n",
    "l32 = [\"*\"] * 32\n",
    "\n",
    "length = len(factors) + len(interactions)\n",
    "print(\"length= \",length)\n",
    "\n",
    "if length <= 3:\n",
    "    ls = l4\n",
    "    yusen_list = [1,2,3]  # 因子割付の優先順位(仮), 成分記号1つの列は1,2\n",
    "elif length <= 7:\n",
    "    ls = l8\n",
    "    yusen_list = [1,2,4,7,6,5,3]  # 因子割付の優先順位(仮) 成分記号1つの列は1,2,4\n",
    "elif length <= 15:\n",
    "    ls = l16\n",
    "    yusen_list = [1,2,4,8,15,14,13,11,7,12,10,9,6,5,3]  # 因子割付の優先順位(仮) 成分記号1つの列は1,2,4,8\n",
    "elif length <= 31:\n",
    "    ls = l32\n",
    "    yusen_list = [1,2,4,8,16,31,30,29,28,27,26,25,24,23,22,21,20,19,18,17,15,14,13,11,7,12,10,9,6,5,3]  # 因子割付の優先順位(仮、成分記号不明なのでやや適当。。) 成分記号1つの列は1,2,4,8,16\n",
    "else :\n",
    "    print(\"因子、または交互作用が多すぎます。\")\n",
    "    quit()\n",
    "    \n",
    "seibun_1keta_count = int(math.log(len(ls)+1,2))\n",
    "print(\"成分記号1桁の数は\",seibun_1keta_count)\n",
    "\n",
    "print(\"\\nL\"+str(len(ls)+1)+\"直交表に割付け処理を行います\")"
   ]
  },
  {
   "cell_type": "markdown",
   "metadata": {},
   "source": [
    "### 交互作用の表による割付けなど、関数で定義\n",
    "交互作用の表には、\n",
    "- 例「1列と2列の交互作用⇒3列に現れる」\n",
    "\n",
    "の様に、「全ての列同士の組み合わせ」と「交互作用が表れる列」の対応が書かれています。  \n",
    "この表を利用して、機械的に交互作用の列を特定します。\n",
    "\n",
    "その他関数として、\n",
    "- リスト同士に重複が含まれるかの判定\n",
    "- リスト同士の重複部分を抽出\n",
    "\n",
    "を定義しています。"
   ]
  },
  {
   "cell_type": "code",
   "execution_count": 5,
   "metadata": {},
   "outputs": [],
   "source": [
    "def itrs_allocate(fcts,itrs):  # fctsには、相互作用に使われる因子の列番が入っていること\n",
    "    # 交互作用の表から、交互作用の列番を判定\n",
    "    filepath = \"interaction_table.csv\"\n",
    "    df_itrs_table = pd.read_csv(filepath)\n",
    "    # df_itrs_table\n",
    "    # interaction_1について、Aは1列、Bは2列⇒ 3列だ\n",
    "    # 3列が使われていないか確認⇒設定\n",
    "    # interaction_2について、Aは1列、Cは4列⇒ 5列だ\n",
    "    itrs_retsuban = [0]*len(itrs)\n",
    "    for itr_i in range(len(itrs)):\n",
    "        row = fcts[itrs[itr_i][0]] - 1\n",
    "        col = fcts[itrs[itr_i][1]]\n",
    "#         print(\"row=\",row)\n",
    "#         print(\"col=\",col)\n",
    "        itrs_retsuban[itr_i] = df_itrs_table[str(col)].iloc[row]\n",
    "#     print(\"交互作用の割付\",itrs_retsuban) \n",
    "    return itrs_retsuban\n",
    "\n",
    "# listに重複があればTrueを返す\n",
    "def has_duplicates(seq):\n",
    "    return len(seq) != len(set(seq))\n",
    "\n",
    "# 2つのlistの重複チェック。一つでも重複していればTrueを返す\n",
    "def has_duplicates_2lists(list_a,list_b):\n",
    "    duplicate_is_exist = False\n",
    "    for a in list_a:\n",
    "        if a in list_b:\n",
    "            duplicate_is_exist = True\n",
    "    return duplicate_is_exist\n",
    "\n",
    "# 2つのlistの重複をリストで返す\n",
    "def extract_duplicates_2lists(list_a,list_b):\n",
    "    duplicates = []\n",
    "    for a in list_a:\n",
    "        if a in list_b:\n",
    "            duplicates.append(a)\n",
    "    return duplicates\n",
    "    "
   ]
  },
  {
   "cell_type": "markdown",
   "metadata": {},
   "source": [
    "### 割付け(MAIN)\n",
    "交互作用を見る/見ないで、割付の手順が変わります。\n",
    "- 交互作用無しの場合、因子を優先順位リスト順に割付け\n",
    "- 交互作用有りの場合、交互作用で見たい因子の組み合わせを作成し、優先順位リスト順に割付ける。  \n",
    "そして交互作用が表れる列を「交互作用の表」から導き出し、  \n",
    "  - 先程割り付けた列との重複がなければ確定。\n",
    "  - 重複あれば、因子の割付け組み合わせを変更してやり直し。\n",
    "    - 因子と交互作用に重複がなくなるまで繰り返し。\n",
    "  \n",
    "因子の組み合わせはPermutation（順列）で作成します。\n"
   ]
  },
  {
   "cell_type": "code",
   "execution_count": 6,
   "metadata": {},
   "outputs": [
    {
     "name": "stdout",
     "output_type": "stream",
     "text": [
      "交互作用なし\n",
      "因子の割付 [1, 2, 3]\n",
      "割付成功\n"
     ]
    }
   ],
   "source": [
    "fcts_retsuban = [0]*len(factors)      # 因子の列番を格納する変数\n",
    "itrs_retsuban = [0]*len(interactions) # 交互作用の列番を格納する変数\n",
    "\n",
    "# 成功/失敗の最終判定用\n",
    "solution_is_exist = False\n",
    "\n",
    "# 見たい交互作用が0個の場合\n",
    "if len(interactions) == 0:\n",
    "    print(\"交互作用なし\")\n",
    "    for fct_i in range(len(factors)):\n",
    "        fcts_retsuban[fct_i] = yusen_list[fct_i]\n",
    "    solution_is_exist = True\n",
    "    print(\"因子の割付\",fcts_retsuban)\n",
    "\n",
    "# 交互作用がある場合\n",
    "else:\n",
    "    # 相互作用で使われている因子を判定\n",
    "    used_fcts_in_itrs = []\n",
    "    for i in range(len(interactions)):\n",
    "        used_fcts_in_itrs.extend(interactions[i])  # 相互作用で使われているリストを合体\n",
    "    used_fcts_in_itrs = pd.DataFrame(used_fcts_in_itrs)  # DataFrameへ変換\n",
    "    used_fcts_in_itrs = used_fcts_in_itrs[0].unique()    # 重複を削除\n",
    "    print(\"交互作用に使用される因子を抽出\", used_fcts_in_itrs)\n",
    "\n",
    "    # 交互作用で使用されていない因子を判定\n",
    "    surplus_fcts = []\n",
    "    for fct_i in range(len(factors)):\n",
    "        if not fct_i in used_fcts_in_itrs:\n",
    "            surplus_fcts.append(fct_i)\n",
    "    print(\"交互作用に使用されない因子を抽出\", surplus_fcts)\n",
    "\n",
    "    # 相互作用に使われている因子の数が、成分記号が一つの数以下の場合。\n",
    "    if len(used_fcts_in_itrs) <= seibun_1keta_count:\n",
    "        yusen_i = 0\n",
    "        for fct_i in range(len(factors)):\n",
    "            if fct_i in used_fcts_in_itrs:\n",
    "                fcts_retsuban[fct_i] = yusen_list[yusen_i]\n",
    "                yusen_i += 1\n",
    "        print(\"交互作用に使用される因子の仮割付\",fcts_retsuban)\n",
    "\n",
    "        # 交互作用の仮割付\n",
    "        itrs_retsuban = itrs_allocate(fcts_retsuban,interactions)\n",
    "        print(\"交互作用の仮割付\",itrs_retsuban)\n",
    "\n",
    "        # 重複確認\n",
    "        if has_duplicates_2lists(itrs_retsuban, fcts_retsuban):\n",
    "            dups = extract_duplicates_2lists(itrs_retsuban, fcts_retsuban)\n",
    "            is_dup_list = [False] * len(itrs_retsuban)\n",
    "            for i,retsuban in enumerate(itrs_retsuban):\n",
    "                if retsuban in dups:\n",
    "                    is_dup_list[i] = True\n",
    "            print(\"重複あり\",itrs_retsuban,\"=\",is_dup_list,\"\\n\")\n",
    "        elif has_duplicates(itrs_retsuban) :\n",
    "                print(\"交互作用内に重複あり\\n\")\n",
    "        else :\n",
    "            solution_is_exist = True\n",
    "            print(\"                                       => 重複なし\\n\")\n",
    "\n",
    "    # 交互作用に使われている因子の数が、成分記号が一つの数より多い場合、複数パターンで確認\n",
    "    else:\n",
    "        # 成分記号が一つの数を優先で割付け\n",
    "        for i in range(seibun_1keta_count):\n",
    "            fcts_retsuban[used_fcts_in_itrs[i]] = yusen_list[i]\n",
    "        print(\"成分記号が一つの数を優先で割付け\",fcts_retsuban)\n",
    "\n",
    "        # 成分記号が2桁以上の因子の順列を作成\n",
    "        surplus_list = yusen_list[seibun_1keta_count:]  # surplus = 余り\n",
    "        print(\"未割付の列番\",surplus_list,\"\\n\")\n",
    "        over_count = len(used_fcts_in_itrs) - seibun_1keta_count  # 未割付の、交互作用で使用される因子の数\n",
    "        ps = itertools.permutations(surplus_list,over_count)  # 順列を作成\n",
    "\n",
    "        # 順列の数だけ繰り返し\n",
    "        for p in ps:\n",
    "            yusen_i = seibun_1keta_count\n",
    "            for fct_i in range(len(p)):\n",
    "    #             print(\"p[\" + str(fct_i) + \"] = \",p[fct_i])\n",
    "    #             print(used_fcts_in_itrs[yusen_i])\n",
    "                fcts_retsuban[used_fcts_in_itrs[yusen_i]] = p[fct_i]\n",
    "                yusen_i += 1\n",
    "            print(\"交互作用に使用される因子の仮割付\",fcts_retsuban)\n",
    "\n",
    "            # 交互作用の割付\n",
    "            itrs_retsuban = itrs_allocate(fcts_retsuban,interactions)\n",
    "            print(\"交互作用の仮割付\",itrs_retsuban) \n",
    "\n",
    "            # 重複の確認\n",
    "            if has_duplicates_2lists(itrs_retsuban, fcts_retsuban):\n",
    "                dups = extract_duplicates_2lists(itrs_retsuban, fcts_retsuban)\n",
    "                is_dup_list = [False] * len(itrs_retsuban)\n",
    "                for i,retsuban in enumerate(itrs_retsuban):\n",
    "                    if retsuban in dups:\n",
    "                        is_dup_list[i] = True\n",
    "                print(\"重複あり\",itrs_retsuban,\"=\",is_dup_list,\"\\n\")\n",
    "            elif has_duplicates(itrs_retsuban) :\n",
    "                print(\"交互作用内に重複あり\\n\")\n",
    "            else :\n",
    "                print(\"                                       => 重複なし\\n\")\n",
    "                solution_is_exist = True\n",
    "                # 解が見つかり次第、検索を中断する。 TODO:複数の解検索もしたくなるかも\n",
    "                break\n",
    "            \n",
    "if solution_is_exist:\n",
    "    print(\"割付成功\")\n",
    "    # 割付の正誤判定  TODO:成分記号による検算を後ほど実装します\n",
    "    \n",
    "else:\n",
    "    print(\"割付失敗\")\n"
   ]
  },
  {
   "cell_type": "markdown",
   "metadata": {},
   "source": [
    "### ここまでの結果表示"
   ]
  },
  {
   "cell_type": "code",
   "execution_count": 7,
   "metadata": {},
   "outputs": [
    {
     "name": "stdout",
     "output_type": "stream",
     "text": [
      "\n",
      "Result：割付成功\n",
      "\n",
      "L4直交表に割付け処理を行いました。\n",
      "\n",
      "因子 ['時間', '小麦', 'カレー粉']\n",
      "交互作用 []\n",
      "割付： ['時間', '小麦', 'カレー粉']\n"
     ]
    }
   ],
   "source": [
    "if solution_is_exist:\n",
    "\n",
    "    # 割付の正誤判定（今回はやらない）　TODO:成分記号の計算から正誤を検算するプログラムを作成予定。\n",
    "\n",
    "    # L*に割り付けました\n",
    "    print(\"\\nResult：割付成功\\n\\nL\"+str(len(ls)+1)+\"直交表に割付け処理を行いました。\\n\")\n",
    "\n",
    "    print(\"因子\",factor_symbols)\n",
    "    print(\"交互作用\",interaction_symbols)\n",
    "    \n",
    "    # 最終的な割付けリストを作成\n",
    "    for fct_i,fct_retsu in enumerate(fcts_retsuban):\n",
    "        if fct_retsu != 0:\n",
    "            ls[fct_retsu-1] = factor_symbols[fct_i]\n",
    "    if len(interactions)>0:\n",
    "        for itr_i,itr_retsu in enumerate(itrs_retsuban):\n",
    "            ls[itr_retsu-1] = interaction_symbols[itr_i]\n",
    "#     print(\"割付結果\")\n",
    "#     retsubans = [0] * len(ls)\n",
    "#     for i in range(len(ls)):\n",
    "#         retsubans[i] = i + 1\n",
    "#     print(\"列番：\", retsubans)\n",
    "    print(\"割付：\", ls)\n",
    "    \n",
    "    # 余りの因子も文字で表現\n",
    "    if len(interactions) > 0 and len(surplus_fcts) > 0:\n",
    "        surplus_symbols = [\"\"] * len(surplus_fcts) \n",
    "        for fct_i,fct_retsu in enumerate(surplus_fcts):\n",
    "            surplus_symbols[fct_i] = factor_symbols[surplus_fcts[fct_i]]\n",
    "        print(\"余り因子(任意の列番に割付)\",surplus_symbols)"
   ]
  },
  {
   "cell_type": "markdown",
   "metadata": {},
   "source": [
    "### 余り因子と誤差の割付け\n",
    "交互作用ありの時、交互作用に使用されなかった因子の割付けを行います。\n",
    "- ここでは、直交表の右側から割付けとしました。この並び順も、結果には影響しませんが個人差があります。"
   ]
  },
  {
   "cell_type": "code",
   "execution_count": 8,
   "metadata": {},
   "outputs": [
    {
     "name": "stdout",
     "output_type": "stream",
     "text": [
      "余りの因子無し\n"
     ]
    }
   ],
   "source": [
    "# 直交表の列に未割付の\"*\"があれば\n",
    "if \"*\" in ls:\n",
    "    # 余りの因子があれば\n",
    "    if len(interactions) > 0 and len(surplus_fcts) > 0:\n",
    "        # 一番末尾の\"*\"から、余り因子に変更\n",
    "        surplus_count = len(surplus_fcts)\n",
    "        ls_count = len(ls)\n",
    "        for i, l in enumerate(reversed(ls)):\n",
    "            reversed_i = ls_count - i - 1\n",
    "            if l == \"*\":\n",
    "                if surplus_count>0:\n",
    "                    ls[reversed_i] = factor_symbols[surplus_fcts[surplus_count - 1]]\n",
    "                    fcts_retsuban[surplus_fcts[surplus_count - 1]] = reversed_i + 1\n",
    "                    surplus_count -= 1\n",
    "                else:\n",
    "                    ls[reversed_i] = \"e\"  # 最後に残った\"*\"にはe（誤差)を割付け\n",
    "    else:\n",
    "        for i,l in enumerate(ls):\n",
    "            if l == \"*\":\n",
    "                ls[i] = \"e\"  # 最後に残った\"*\"にはe（誤差)を割付け\n",
    "        \n",
    "    print(\"因子の割付\", fcts_retsuban)\n",
    "    if len(interactions) > 0 :\n",
    "        print(\"交互作用の割付\", itrs_retsuban)\n",
    "    print(\"全ての割付\", ls)\n",
    "else:\n",
    "    print(\"余りの因子無し\")\n",
    "        "
   ]
  },
  {
   "cell_type": "markdown",
   "metadata": {},
   "source": [
    "# 直行表（実験計画）の作成\n",
    "---\n",
    "さて、因子と交互作用の割付けが完了しましたので、残りは直交表(実験計画)の作成です。  \n",
    "ここでは機械的に、直交表の1,2をそれぞれの因子の水準1と水準2に置換します。  \n",
    "\n",
    "また、実験の順序による影響を小さくするため、実験順序のランダム化を行います。\n",
    "\n",
    "最後に、結果書き込み用の列と、備考書き込み用の列も空欄で作成しておきます。  \n",
    "\n",
    "※備考は後から見返す際に有効なことが多いので、積極的に書くと良いです。  \n",
    "　たとえば「実験5回目と6回目の間に30分休憩を挟んだ」など、細かいことでも書いておきます。\n"
   ]
  },
  {
   "cell_type": "markdown",
   "metadata": {},
   "source": [
    "### 直交表の判定、元の表を外部から読み込み"
   ]
  },
  {
   "cell_type": "code",
   "execution_count": 9,
   "metadata": {},
   "outputs": [
    {
     "name": "stdout",
     "output_type": "stream",
     "text": [
      "直交表の元データ： L4.csv\n",
      "直交表：              1    2  3\n",
      "L4                    \n",
      "1            1    1  1\n",
      "2            1    2  2\n",
      "3            2    1  2\n",
      "4            2    2  1\n",
      "component    a  NaN  a\n",
      "NaN        NaN    b  b\n"
     ]
    },
    {
     "data": {
      "text/html": [
       "<div>\n",
       "<style scoped>\n",
       "    .dataframe tbody tr th:only-of-type {\n",
       "        vertical-align: middle;\n",
       "    }\n",
       "\n",
       "    .dataframe tbody tr th {\n",
       "        vertical-align: top;\n",
       "    }\n",
       "\n",
       "    .dataframe thead th {\n",
       "        text-align: right;\n",
       "    }\n",
       "</style>\n",
       "<table border=\"1\" class=\"dataframe\">\n",
       "  <thead>\n",
       "    <tr style=\"text-align: right;\">\n",
       "      <th></th>\n",
       "      <th>1</th>\n",
       "      <th>2</th>\n",
       "      <th>3</th>\n",
       "    </tr>\n",
       "    <tr>\n",
       "      <th>L4</th>\n",
       "      <th></th>\n",
       "      <th></th>\n",
       "      <th></th>\n",
       "    </tr>\n",
       "  </thead>\n",
       "  <tbody>\n",
       "    <tr>\n",
       "      <th>1</th>\n",
       "      <td>1</td>\n",
       "      <td>1</td>\n",
       "      <td>1</td>\n",
       "    </tr>\n",
       "    <tr>\n",
       "      <th>2</th>\n",
       "      <td>1</td>\n",
       "      <td>2</td>\n",
       "      <td>2</td>\n",
       "    </tr>\n",
       "    <tr>\n",
       "      <th>3</th>\n",
       "      <td>2</td>\n",
       "      <td>1</td>\n",
       "      <td>2</td>\n",
       "    </tr>\n",
       "    <tr>\n",
       "      <th>4</th>\n",
       "      <td>2</td>\n",
       "      <td>2</td>\n",
       "      <td>1</td>\n",
       "    </tr>\n",
       "  </tbody>\n",
       "</table>\n",
       "</div>"
      ],
      "text/plain": [
       "    1  2  3\n",
       "L4         \n",
       "1   1  1  1\n",
       "2   1  2  2\n",
       "3   2  1  2\n",
       "4   2  2  1"
      ]
     },
     "execution_count": 9,
     "metadata": {},
     "output_type": "execute_result"
    }
   ],
   "source": [
    "# 直交表のサイズを判定\n",
    "L = len(ls) + 1\n",
    "if L == 4:\n",
    "    l_filepath = \"L4.csv\"\n",
    "elif L == 8:\n",
    "    l_filepath = \"L8.csv\"\n",
    "elif L == 16:\n",
    "    l_filepath = \"L16.csv\"\n",
    "else:\n",
    "    print(\"割付が不正です\")\n",
    "\n",
    "# 直交表の読み込み\n",
    "print(\"直交表の元データ：\",l_filepath)\n",
    "df = pd.read_csv(l_filepath, index_col =0)\n",
    "print(\"直交表：\",df)\n",
    "df = df.dropna()\n",
    "df = df.astype(int)\n",
    "df"
   ]
  },
  {
   "cell_type": "markdown",
   "metadata": {},
   "source": [
    "### 直交表への水準の記入"
   ]
  },
  {
   "cell_type": "code",
   "execution_count": 10,
   "metadata": {},
   "outputs": [
    {
     "data": {
      "text/html": [
       "<div>\n",
       "<style scoped>\n",
       "    .dataframe tbody tr th:only-of-type {\n",
       "        vertical-align: middle;\n",
       "    }\n",
       "\n",
       "    .dataframe tbody tr th {\n",
       "        vertical-align: top;\n",
       "    }\n",
       "\n",
       "    .dataframe thead th {\n",
       "        text-align: right;\n",
       "    }\n",
       "</style>\n",
       "<table border=\"1\" class=\"dataframe\">\n",
       "  <thead>\n",
       "    <tr style=\"text-align: right;\">\n",
       "      <th></th>\n",
       "      <th>時間</th>\n",
       "      <th>小麦</th>\n",
       "      <th>カレー粉</th>\n",
       "      <th>結果</th>\n",
       "      <th>備考</th>\n",
       "    </tr>\n",
       "    <tr>\n",
       "      <th>L4</th>\n",
       "      <th></th>\n",
       "      <th></th>\n",
       "      <th></th>\n",
       "      <th></th>\n",
       "      <th></th>\n",
       "    </tr>\n",
       "  </thead>\n",
       "  <tbody>\n",
       "    <tr>\n",
       "      <th>1</th>\n",
       "      <td>20</td>\n",
       "      <td>5</td>\n",
       "      <td>海軍</td>\n",
       "      <td></td>\n",
       "      <td></td>\n",
       "    </tr>\n",
       "    <tr>\n",
       "      <th>2</th>\n",
       "      <td>20</td>\n",
       "      <td>10</td>\n",
       "      <td>BMT</td>\n",
       "      <td></td>\n",
       "      <td></td>\n",
       "    </tr>\n",
       "    <tr>\n",
       "      <th>3</th>\n",
       "      <td>60</td>\n",
       "      <td>5</td>\n",
       "      <td>BMT</td>\n",
       "      <td></td>\n",
       "      <td></td>\n",
       "    </tr>\n",
       "    <tr>\n",
       "      <th>4</th>\n",
       "      <td>60</td>\n",
       "      <td>10</td>\n",
       "      <td>海軍</td>\n",
       "      <td></td>\n",
       "      <td></td>\n",
       "    </tr>\n",
       "  </tbody>\n",
       "</table>\n",
       "</div>"
      ],
      "text/plain": [
       "    時間  小麦 カレー粉 結果 備考\n",
       "L4                   \n",
       "1   20   5   海軍      \n",
       "2   20  10  BMT      \n",
       "3   60   5  BMT      \n",
       "4   60  10   海軍      "
      ]
     },
     "execution_count": 10,
     "metadata": {},
     "output_type": "execute_result"
    }
   ],
   "source": [
    "row_count = len(df)\n",
    "\n",
    "# 一度、直交表の1,2⇒_True_,_False_(文字列)に変換。置換間違いを防ぐため\n",
    "for fct_i in range(row_count - 1):\n",
    "    str_i = str(fct_i + 1)\n",
    "    df[str_i] = df[str_i].replace(1,\"_True_\")\n",
    "    df[str_i] = df[str_i].replace(2,\"_False_\")\n",
    "    \n",
    "# 直交表への水準の置換\n",
    "for fct_i,retsuban in enumerate(fcts_retsuban):\n",
    "    retsuban_str = str(retsuban)\n",
    "    df[retsuban_str] = df[retsuban_str].replace(\"_True_\",factors[fct_i][0])\n",
    "    df[retsuban_str] = df[retsuban_str].replace(\"_False_\",factors[fct_i][1])\n",
    "\n",
    "# 残りを空欄に置換\n",
    "for fct_i in range(row_count - 1):\n",
    "    retsuban_str = str(fct_i + 1)\n",
    "    if not fct_i + 1 in fcts_retsuban:\n",
    "        df[retsuban_str] = \"\"\n",
    "\n",
    "# 表の項目名を入れる\n",
    "df.columns = ls\n",
    "\n",
    "# 表に結果、備考欄を追加\n",
    "df[\"結果\"] = \"\"\n",
    "df[\"備考\"] = \"\"\n",
    "\n",
    "df"
   ]
  },
  {
   "cell_type": "code",
   "execution_count": 11,
   "metadata": {},
   "outputs": [
    {
     "data": {
      "text/html": [
       "<div>\n",
       "<style scoped>\n",
       "    .dataframe tbody tr th:only-of-type {\n",
       "        vertical-align: middle;\n",
       "    }\n",
       "\n",
       "    .dataframe tbody tr th {\n",
       "        vertical-align: top;\n",
       "    }\n",
       "\n",
       "    .dataframe thead th {\n",
       "        text-align: right;\n",
       "    }\n",
       "</style>\n",
       "<table border=\"1\" class=\"dataframe\">\n",
       "  <thead>\n",
       "    <tr style=\"text-align: right;\">\n",
       "      <th></th>\n",
       "      <th>時間</th>\n",
       "      <th>小麦</th>\n",
       "      <th>カレー粉</th>\n",
       "      <th>結果</th>\n",
       "      <th>備考</th>\n",
       "      <th>行No.</th>\n",
       "    </tr>\n",
       "  </thead>\n",
       "  <tbody>\n",
       "    <tr>\n",
       "      <th>1</th>\n",
       "      <td>60</td>\n",
       "      <td>5</td>\n",
       "      <td>BMT</td>\n",
       "      <td></td>\n",
       "      <td></td>\n",
       "      <td>3</td>\n",
       "    </tr>\n",
       "    <tr>\n",
       "      <th>2</th>\n",
       "      <td>60</td>\n",
       "      <td>10</td>\n",
       "      <td>海軍</td>\n",
       "      <td></td>\n",
       "      <td></td>\n",
       "      <td>4</td>\n",
       "    </tr>\n",
       "    <tr>\n",
       "      <th>3</th>\n",
       "      <td>20</td>\n",
       "      <td>10</td>\n",
       "      <td>BMT</td>\n",
       "      <td></td>\n",
       "      <td></td>\n",
       "      <td>2</td>\n",
       "    </tr>\n",
       "    <tr>\n",
       "      <th>4</th>\n",
       "      <td>20</td>\n",
       "      <td>5</td>\n",
       "      <td>海軍</td>\n",
       "      <td></td>\n",
       "      <td></td>\n",
       "      <td>1</td>\n",
       "    </tr>\n",
       "  </tbody>\n",
       "</table>\n",
       "</div>"
      ],
      "text/plain": [
       "   時間  小麦 カレー粉 結果 備考 行No.\n",
       "1  60   5  BMT          3\n",
       "2  60  10   海軍          4\n",
       "3  20  10  BMT          2\n",
       "4  20   5   海軍          1"
      ]
     },
     "execution_count": 11,
     "metadata": {},
     "output_type": "execute_result"
    }
   ],
   "source": [
    "# 乱数で並べ替え\n",
    "if use_randomize:\n",
    "    l_index = range(1, row_count + 1)\n",
    "    df_index = pd.Series(l_index)\n",
    "    df[\"行No.\"] = df.index\n",
    "    if use_seed:\n",
    "        df = df.sample(frac=1, random_state=seed_no) # SEED固定\n",
    "    else:\n",
    "        df = df.sample(frac=1) # SEED固定なし\n",
    "    df.index = df_index\n",
    "\n",
    "df"
   ]
  },
  {
   "cell_type": "markdown",
   "metadata": {},
   "source": [
    "## EXCEL出力\n",
    "作成した実験計画をEXCELに保存します。  \n",
    "この時、後ほど解析時に読み込む用の情報を別シートに記入しておきます。"
   ]
  },
  {
   "cell_type": "code",
   "execution_count": 12,
   "metadata": {},
   "outputs": [
    {
     "name": "stdout",
     "output_type": "stream",
     "text": [
      "出力完了 output_Expt_Plan_L4.xlsx\n"
     ]
    }
   ],
   "source": [
    "excel_name = \"output_Expt_Plan_L\" + str(L) + \".xlsx\"\n",
    "\n",
    "df_fcts = pd.DataFrame(factors)  # 因子\n",
    "df_itrs = pd.DataFrame(interactions)  # 交互作用\n",
    "df_fcts_retsuban = pd.Series(fcts_retsuban)\n",
    "df_itrs_retsuban = pd.DataFrame(itrs_retsuban)\n",
    "df_fcts = pd.concat([df_fcts,df_fcts_retsuban], axis=1)\n",
    "df_fcts.columns = [1,2,\"Col_Index\"]\n",
    "if len(df_itrs) != 0:\n",
    "    df_itrs = pd.concat([df_itrs,df_itrs_retsuban], axis=1)\n",
    "    df_itrs.columns = [1,2,\"Col_Index\"]\n",
    "\n",
    "# データの書き込み\n",
    "with pd.ExcelWriter(excel_name) as writer:\n",
    "    df.to_excel(writer,sheet_name='Expt_Plan')  # 作成した直交表（実験計画）\n",
    "    df_fcts.to_excel(writer,sheet_name='Factors')  # 因子\n",
    "    df_itrs.to_excel(writer,sheet_name='Interactions')  # 交互作用\n",
    "\n",
    "# excelのシート非表示化\n",
    "# wb = openpyxl.load_workbook(excel_name)\n",
    "# ws_fcts = wb['factors']\n",
    "# ws_fcts.sheet_state = 'hidden'\n",
    "# ws_itrs = wb['interactions']\n",
    "# ws_itrs.sheet_state = 'hidden'\n",
    "wb.save(excel_name)\n",
    "\n",
    "print(\"出力完了\",excel_name)"
   ]
  },
  {
   "cell_type": "markdown",
   "metadata": {},
   "source": [
    "## まとめ、所感\n",
    "- 2水準系直交表への因子と交互作用の自動割付けを行いました。  \n",
    "- 業務の都合でexcelかPython環境のため、今回はPythonで作成しました。\n",
    "- Rには、すでに割付け可能なライブラリがあるそうです。\n",
    "  - Rに詳しい人に聞いてみたいです（Rに触ったことがなく、また周りにも経験者がおらず、、今後勉強します。）\n",
    "  \n",
    "## 今後の課題\n",
    "- 割付け方法に「交互作用の表を使った方法」と「成分記号による方法」  \n",
    "の2通りを行い、検算したいと考えています。  \n",
    "※現状は「交互作用の表」のみで割付けています。\n",
    "- 3水準への対応\n",
    "- 4水準、擬水準への対応"
   ]
  }
 ],
 "metadata": {
  "kernelspec": {
   "display_name": "Python 3 (ipykernel)",
   "language": "python",
   "name": "python3"
  },
  "language_info": {
   "codemirror_mode": {
    "name": "ipython",
    "version": 3
   },
   "file_extension": ".py",
   "mimetype": "text/x-python",
   "name": "python",
   "nbconvert_exporter": "python",
   "pygments_lexer": "ipython3",
   "version": "3.7.7"
  }
 },
 "nbformat": 4,
 "nbformat_minor": 2
}
